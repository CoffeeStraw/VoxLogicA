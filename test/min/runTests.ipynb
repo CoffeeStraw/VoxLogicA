{
 "cells": [
  {
   "cell_type": "markdown",
   "metadata": {},
   "source": [
    "# Python setup"
   ]
  },
  {
   "cell_type": "code",
   "execution_count": 1,
   "metadata": {},
   "outputs": [],
   "source": [
    "import subprocess \n",
    "import time\n",
    "import glob\n",
    "import os\n",
    "from pathlib import Path\n",
    "import shutil\n",
    "import pandas as pd\n",
    "import tempfile\n",
    "from PIL import Image\n",
    "import resource\n",
    "from ast import literal_eval\n",
    "import json\n",
    "\n",
    "def run(obj,print_output=False):\n",
    "    start = time.perf_counter()\n",
    "    result = subprocess.run(obj[\"args\"],capture_output=True,text=True)    \n",
    "    if result.returncode != 0:\n",
    "        print(result.stdout)\n",
    "        print(result.stderr)\n",
    "        result.check_returncode()\n",
    "    else:\n",
    "        if print_output:\n",
    "            print(result.stdout)\n",
    "        return { \"delta\": time.perf_counter() - start, \"label\": obj[\"label\"],\"output\": result.stdout,\"error\": result.stderr, \"return_code\": result.returncode }\n",
    "    \n",
    "rid=\"linux-x64\"\n",
    "#converter_exe_rel=\"../../bin/release/net6.0/linux-x64/GraphLogicA\"\n",
    "converter_exe_rel=f\"../../src/bin/release/net6.0/{rid}/GraphLogicA\"\n",
    "converter_exe = Path(converter_exe_rel).absolute().as_posix()\n",
    "graphlogica_exe = converter_exe\n",
    "minimizer_exe = shutil.which(\"ltsconvert\")\n",
    "voxlogica_exe = f\"../VoxLogicA_1.0-experimental_{rid}/VoxLogicA\"\n",
    "output=\"output\"\n",
    "#shutil.rmtree(output,ignore_errors=True)\n",
    "os.makedirs(output,exist_ok=True)\n",
    "images = glob.glob(\"test-images/*.png\")\n",
    "    \n",
    "def mk_df(results,delta_label):\n",
    "    return pd.DataFrame(results).set_index(\"label\").rename(columns={\"delta\": delta_label}).drop(columns=[\"output\",\"error\",\"return_code\"])\n",
    "# !(cd ../.. && dotnet build -c release -r $rid)\n",
    "resource.setrlimit(resource.RLIMIT_STACK, (resource.RLIM_INFINITY, resource.RLIM_INFINITY))"
   ]
  },
  {
   "cell_type": "markdown",
   "metadata": {},
   "source": [
    "# Convert images"
   ]
  },
  {
   "cell_type": "code",
   "execution_count": 2,
   "metadata": {},
   "outputs": [],
   "source": [
    "def converter(image):\n",
    "    path = Path(image)\n",
    "    label = path.with_suffix(\"\").name\n",
    "    o_path = Path(output)\n",
    "    s_path = path.with_suffix(\".aut\").name\n",
    "    d_path = o_path.joinpath(s_path)\n",
    "    return { \"args\": [converter_exe,\"--convert\",path.as_posix(),d_path.as_posix()], \"label\": label }\n",
    "    #return (run(label,args))\n",
    "\n",
    "converter_df = mk_df([ run(converter(image)) for image in images ],\"conversionAndWrite\")\n"
   ]
  },
  {
   "cell_type": "markdown",
   "metadata": {},
   "source": [
    "# Minimize"
   ]
  },
  {
   "cell_type": "code",
   "execution_count": 16,
   "metadata": {},
   "outputs": [
    {
     "data": {
      "text/html": [
       "<div>\n",
       "<style scoped>\n",
       "    .dataframe tbody tr th:only-of-type {\n",
       "        vertical-align: middle;\n",
       "    }\n",
       "\n",
       "    .dataframe tbody tr th {\n",
       "        vertical-align: top;\n",
       "    }\n",
       "\n",
       "    .dataframe thead th {\n",
       "        text-align: right;\n",
       "    }\n",
       "</style>\n",
       "<table border=\"1\" class=\"dataframe\">\n",
       "  <thead>\n",
       "    <tr style=\"text-align: right;\">\n",
       "      <th></th>\n",
       "      <th>minimization</th>\n",
       "      <th>reachability check</th>\n",
       "      <th>reduction</th>\n",
       "      <th>total</th>\n",
       "    </tr>\n",
       "    <tr>\n",
       "      <th>label</th>\n",
       "      <th></th>\n",
       "      <th></th>\n",
       "      <th></th>\n",
       "      <th></th>\n",
       "    </tr>\n",
       "  </thead>\n",
       "  <tbody>\n",
       "    <tr>\n",
       "      <th>rai-1080</th>\n",
       "      <td>3.96444</td>\n",
       "      <td>0.20271</td>\n",
       "      <td>0.413418</td>\n",
       "      <td>3.934516</td>\n",
       "    </tr>\n",
       "  </tbody>\n",
       "</table>\n",
       "</div>"
      ],
      "text/plain": [
       "          minimization  reachability check  reduction     total\n",
       "label                                                          \n",
       "rai-1080       3.96444             0.20271   0.413418  3.934516"
      ]
     },
     "execution_count": 16,
     "metadata": {},
     "output_type": "execute_result"
    }
   ],
   "source": [
    "def minimizer(image):\n",
    "    path = Path(image)\n",
    "    label = path.with_suffix(\"\").name\n",
    "    o_path = Path(output)\n",
    "    s_path = path.with_suffix(\".aut\").name\n",
    "    d_path = o_path.joinpath(s_path)\n",
    "    m_path = o_path.joinpath(\n",
    "        Path(path.with_suffix(\"\").name + \"_min\").with_suffix(\".aut\"))\n",
    "    return {\"args\": [minimizer_exe, \"--timings\", \"-ebranching-bisim\", d_path.as_posix(), m_path.as_posix()], \"label\": label}\n",
    "\n",
    "\n",
    "out = [run(minimizer(image)) for image in images]\n",
    "\n",
    "\n",
    "def f(x: str):\n",
    "    try:\n",
    "        return float(x)\n",
    "    except:\n",
    "        return False\n",
    "\n",
    "myLabels = { \"reachability check\": \"reachabilityCheck\", \"total\": \"mcrl2-int\" }\n",
    "\n",
    "for o in out:\n",
    "    lines: str = out[0][\"error\"].strip(\"- \").splitlines()\n",
    "    # res = {\n",
    "    #     x[0]: f(x[1]) for line in lines if (x := line.strip(\"' \").split(\":\")) if len(x) > 1 if f(x[1])\n",
    "    # }\n",
    "    for line in lines:\n",
    "        x = line.strip(\"' \").split(\":\")\n",
    "        if len(x) > 1:\n",
    "            fl = f(x[1])\n",
    "            l = x[0]\n",
    "            if l in myLabels.keys:\n",
    "                l = myLabels[l]\n",
    "            if fl:\n",
    "                o[l] = fl\n",
    "\n",
    "minimizer_df = mk_df(out, \"mcrl2\")\n",
    "minimizer_df\n"
   ]
  },
  {
   "cell_type": "code",
   "execution_count": 15,
   "metadata": {},
   "outputs": [
    {
     "data": {
      "text/plain": [
       "{'reachability check': 0.197224, 'reduction': 0.410126, 'total': 3.924875}"
      ]
     },
     "execution_count": 15,
     "metadata": {},
     "output_type": "execute_result"
    }
   ],
   "source": [
    "def f(x : str):\n",
    "    try:\n",
    "        return float(x)\n",
    "    except:\n",
    "        return False \n",
    "lines : str= out[0][\"error\"].strip(\"- \").splitlines()\n",
    "res = {\n",
    "   x[0]: f(x[1]) for line in lines if (x := line.strip(\"' \").split(\":\")) if len(x) > 1 if f(x[1])\n",
    "}\n",
    "res"
   ]
  },
  {
   "cell_type": "markdown",
   "metadata": {},
   "source": [
    "# Convert the minimized model back"
   ]
  },
  {
   "cell_type": "code",
   "execution_count": 4,
   "metadata": {},
   "outputs": [],
   "source": [
    "def convertBack(image):\n",
    "    path = Path(image)\n",
    "    label = path.with_suffix(\"\").name\n",
    "    o_path = Path(output)\n",
    "    s_path = path.with_suffix(\".aut\").name\n",
    "    d_path = o_path.joinpath(s_path)\n",
    "    m_path = o_path.joinpath(Path(path.with_suffix(\"\").name + \"_min\").with_suffix(\".aut\"))\n",
    "    j_path = o_path.joinpath(path.with_suffix(\".json\").name)\n",
    "    return { \"args\": [converter_exe,\"--convert\",m_path.as_posix(),j_path.as_posix()], \"label\": label }\n",
    "    #return (run(label,args))\n",
    "\n",
    "backConverter_df = mk_df([ run(convertBack(image)) for image in images ],\"convertBack\")\n"
   ]
  },
  {
   "cell_type": "markdown",
   "metadata": {},
   "source": [
    "# Convert without writing the file "
   ]
  },
  {
   "cell_type": "code",
   "execution_count": 5,
   "metadata": {},
   "outputs": [],
   "source": [
    "def fakeConverter(image):\n",
    "    path = Path(image)\n",
    "    label = path.with_suffix(\"\").name\n",
    "    o_path = Path(output)\n",
    "    s_path = path.with_suffix(\".fake.aut\").name\n",
    "    d_path = o_path.joinpath(s_path)\n",
    "    return { \"args\": [converter_exe,\"--convert\",path.as_posix(),d_path.as_posix(),\"--fakeconversion\"], \"label\": label }\n",
    "    #return (run(label,args))\n",
    "\n",
    "fakeConverter_df = mk_df([ run(fakeConverter(image)) for image in images ],\"conversion\")\n"
   ]
  },
  {
   "cell_type": "markdown",
   "metadata": {},
   "source": [
    "# Model checking on images using VoxLogicA"
   ]
  },
  {
   "cell_type": "code",
   "execution_count": 6,
   "metadata": {},
   "outputs": [
    {
     "ename": "FileNotFoundError",
     "evalue": "[Errno 2] No such file or directory: '../VoxLogicA_1.0-experimental_linux-x64/VoxLogicA'",
     "output_type": "error",
     "traceback": [
      "\u001b[0;31m---------------------------------------------------------------------------\u001b[0m",
      "\u001b[0;31mFileNotFoundError\u001b[0m                         Traceback (most recent call last)",
      "\u001b[0;32m<ipython-input-6-eb2dab8afd4a>\u001b[0m in \u001b[0;36m<module>\u001b[0;34m\u001b[0m\n\u001b[1;32m     70\u001b[0m \u001b[0;34m\u001b[0m\u001b[0m\n\u001b[1;32m     71\u001b[0m modelChecker_df = mk_df(\n\u001b[0;32m---> 72\u001b[0;31m     [run(modelChecker(image,spec))\n\u001b[0m\u001b[1;32m     73\u001b[0m         for image in images if (spec:=findSpec(image)) if spec],\n\u001b[1;32m     74\u001b[0m     \"modelCheckingFull\")\n",
      "\u001b[0;32m<ipython-input-6-eb2dab8afd4a>\u001b[0m in \u001b[0;36m<listcomp>\u001b[0;34m(.0)\u001b[0m\n\u001b[1;32m     70\u001b[0m \u001b[0;34m\u001b[0m\u001b[0m\n\u001b[1;32m     71\u001b[0m modelChecker_df = mk_df(\n\u001b[0;32m---> 72\u001b[0;31m     [run(modelChecker(image,spec))\n\u001b[0m\u001b[1;32m     73\u001b[0m         for image in images if (spec:=findSpec(image)) if spec],\n\u001b[1;32m     74\u001b[0m     \"modelCheckingFull\")\n",
      "\u001b[0;32m<ipython-input-1-a6aa5831d428>\u001b[0m in \u001b[0;36mrun\u001b[0;34m(obj, print_output)\u001b[0m\n\u001b[1;32m     13\u001b[0m \u001b[0;32mdef\u001b[0m \u001b[0mrun\u001b[0m\u001b[0;34m(\u001b[0m\u001b[0mobj\u001b[0m\u001b[0;34m,\u001b[0m\u001b[0mprint_output\u001b[0m\u001b[0;34m=\u001b[0m\u001b[0;32mFalse\u001b[0m\u001b[0;34m)\u001b[0m\u001b[0;34m:\u001b[0m\u001b[0;34m\u001b[0m\u001b[0;34m\u001b[0m\u001b[0m\n\u001b[1;32m     14\u001b[0m     \u001b[0mstart\u001b[0m \u001b[0;34m=\u001b[0m \u001b[0mtime\u001b[0m\u001b[0;34m.\u001b[0m\u001b[0mperf_counter\u001b[0m\u001b[0;34m(\u001b[0m\u001b[0;34m)\u001b[0m\u001b[0;34m\u001b[0m\u001b[0;34m\u001b[0m\u001b[0m\n\u001b[0;32m---> 15\u001b[0;31m     \u001b[0mresult\u001b[0m \u001b[0;34m=\u001b[0m \u001b[0msubprocess\u001b[0m\u001b[0;34m.\u001b[0m\u001b[0mrun\u001b[0m\u001b[0;34m(\u001b[0m\u001b[0mobj\u001b[0m\u001b[0;34m[\u001b[0m\u001b[0;34m\"args\"\u001b[0m\u001b[0;34m]\u001b[0m\u001b[0;34m,\u001b[0m\u001b[0mcapture_output\u001b[0m\u001b[0;34m=\u001b[0m\u001b[0;32mTrue\u001b[0m\u001b[0;34m,\u001b[0m\u001b[0mtext\u001b[0m\u001b[0;34m=\u001b[0m\u001b[0;32mTrue\u001b[0m\u001b[0;34m)\u001b[0m\u001b[0;34m\u001b[0m\u001b[0;34m\u001b[0m\u001b[0m\n\u001b[0m\u001b[1;32m     16\u001b[0m     \u001b[0;32mif\u001b[0m \u001b[0mresult\u001b[0m\u001b[0;34m.\u001b[0m\u001b[0mreturncode\u001b[0m \u001b[0;34m!=\u001b[0m \u001b[0;36m0\u001b[0m\u001b[0;34m:\u001b[0m\u001b[0;34m\u001b[0m\u001b[0;34m\u001b[0m\u001b[0m\n\u001b[1;32m     17\u001b[0m         \u001b[0mprint\u001b[0m\u001b[0;34m(\u001b[0m\u001b[0mresult\u001b[0m\u001b[0;34m.\u001b[0m\u001b[0mstdout\u001b[0m\u001b[0;34m)\u001b[0m\u001b[0;34m\u001b[0m\u001b[0;34m\u001b[0m\u001b[0m\n",
      "\u001b[0;32m/usr/lib/python3.9/subprocess.py\u001b[0m in \u001b[0;36mrun\u001b[0;34m(input, capture_output, timeout, check, *popenargs, **kwargs)\u001b[0m\n\u001b[1;32m    503\u001b[0m         \u001b[0mkwargs\u001b[0m\u001b[0;34m[\u001b[0m\u001b[0;34m'stderr'\u001b[0m\u001b[0;34m]\u001b[0m \u001b[0;34m=\u001b[0m \u001b[0mPIPE\u001b[0m\u001b[0;34m\u001b[0m\u001b[0;34m\u001b[0m\u001b[0m\n\u001b[1;32m    504\u001b[0m \u001b[0;34m\u001b[0m\u001b[0m\n\u001b[0;32m--> 505\u001b[0;31m     \u001b[0;32mwith\u001b[0m \u001b[0mPopen\u001b[0m\u001b[0;34m(\u001b[0m\u001b[0;34m*\u001b[0m\u001b[0mpopenargs\u001b[0m\u001b[0;34m,\u001b[0m \u001b[0;34m**\u001b[0m\u001b[0mkwargs\u001b[0m\u001b[0;34m)\u001b[0m \u001b[0;32mas\u001b[0m \u001b[0mprocess\u001b[0m\u001b[0;34m:\u001b[0m\u001b[0;34m\u001b[0m\u001b[0;34m\u001b[0m\u001b[0m\n\u001b[0m\u001b[1;32m    506\u001b[0m         \u001b[0;32mtry\u001b[0m\u001b[0;34m:\u001b[0m\u001b[0;34m\u001b[0m\u001b[0;34m\u001b[0m\u001b[0m\n\u001b[1;32m    507\u001b[0m             \u001b[0mstdout\u001b[0m\u001b[0;34m,\u001b[0m \u001b[0mstderr\u001b[0m \u001b[0;34m=\u001b[0m \u001b[0mprocess\u001b[0m\u001b[0;34m.\u001b[0m\u001b[0mcommunicate\u001b[0m\u001b[0;34m(\u001b[0m\u001b[0minput\u001b[0m\u001b[0;34m,\u001b[0m \u001b[0mtimeout\u001b[0m\u001b[0;34m=\u001b[0m\u001b[0mtimeout\u001b[0m\u001b[0;34m)\u001b[0m\u001b[0;34m\u001b[0m\u001b[0;34m\u001b[0m\u001b[0m\n",
      "\u001b[0;32m/usr/lib/python3.9/subprocess.py\u001b[0m in \u001b[0;36m__init__\u001b[0;34m(self, args, bufsize, executable, stdin, stdout, stderr, preexec_fn, close_fds, shell, cwd, env, universal_newlines, startupinfo, creationflags, restore_signals, start_new_session, pass_fds, user, group, extra_groups, encoding, errors, text, umask)\u001b[0m\n\u001b[1;32m    949\u001b[0m                             encoding=encoding, errors=errors)\n\u001b[1;32m    950\u001b[0m \u001b[0;34m\u001b[0m\u001b[0m\n\u001b[0;32m--> 951\u001b[0;31m             self._execute_child(args, executable, preexec_fn, close_fds,\n\u001b[0m\u001b[1;32m    952\u001b[0m                                 \u001b[0mpass_fds\u001b[0m\u001b[0;34m,\u001b[0m \u001b[0mcwd\u001b[0m\u001b[0;34m,\u001b[0m \u001b[0menv\u001b[0m\u001b[0;34m,\u001b[0m\u001b[0;34m\u001b[0m\u001b[0;34m\u001b[0m\u001b[0m\n\u001b[1;32m    953\u001b[0m                                 \u001b[0mstartupinfo\u001b[0m\u001b[0;34m,\u001b[0m \u001b[0mcreationflags\u001b[0m\u001b[0;34m,\u001b[0m \u001b[0mshell\u001b[0m\u001b[0;34m,\u001b[0m\u001b[0;34m\u001b[0m\u001b[0;34m\u001b[0m\u001b[0m\n",
      "\u001b[0;32m/usr/lib/python3.9/subprocess.py\u001b[0m in \u001b[0;36m_execute_child\u001b[0;34m(self, args, executable, preexec_fn, close_fds, pass_fds, cwd, env, startupinfo, creationflags, shell, p2cread, p2cwrite, c2pread, c2pwrite, errread, errwrite, restore_signals, gid, gids, uid, umask, start_new_session)\u001b[0m\n\u001b[1;32m   1819\u001b[0m                     \u001b[0;32mif\u001b[0m \u001b[0merrno_num\u001b[0m \u001b[0;34m!=\u001b[0m \u001b[0;36m0\u001b[0m\u001b[0;34m:\u001b[0m\u001b[0;34m\u001b[0m\u001b[0;34m\u001b[0m\u001b[0m\n\u001b[1;32m   1820\u001b[0m                         \u001b[0merr_msg\u001b[0m \u001b[0;34m=\u001b[0m \u001b[0mos\u001b[0m\u001b[0;34m.\u001b[0m\u001b[0mstrerror\u001b[0m\u001b[0;34m(\u001b[0m\u001b[0merrno_num\u001b[0m\u001b[0;34m)\u001b[0m\u001b[0;34m\u001b[0m\u001b[0;34m\u001b[0m\u001b[0m\n\u001b[0;32m-> 1821\u001b[0;31m                     \u001b[0;32mraise\u001b[0m \u001b[0mchild_exception_type\u001b[0m\u001b[0;34m(\u001b[0m\u001b[0merrno_num\u001b[0m\u001b[0;34m,\u001b[0m \u001b[0merr_msg\u001b[0m\u001b[0;34m,\u001b[0m \u001b[0merr_filename\u001b[0m\u001b[0;34m)\u001b[0m\u001b[0;34m\u001b[0m\u001b[0;34m\u001b[0m\u001b[0m\n\u001b[0m\u001b[1;32m   1822\u001b[0m                 \u001b[0;32mraise\u001b[0m \u001b[0mchild_exception_type\u001b[0m\u001b[0;34m(\u001b[0m\u001b[0merr_msg\u001b[0m\u001b[0;34m)\u001b[0m\u001b[0;34m\u001b[0m\u001b[0;34m\u001b[0m\u001b[0m\n\u001b[1;32m   1823\u001b[0m \u001b[0;34m\u001b[0m\u001b[0m\n",
      "\u001b[0;31mFileNotFoundError\u001b[0m: [Errno 2] No such file or directory: '../VoxLogicA_1.0-experimental_linux-x64/VoxLogicA'"
     ]
    }
   ],
   "source": [
    "def colour(r, g, b, is_graph=False):\n",
    "    if is_graph:\n",
    "        return f'''ap(\"{r:02x}{g:02x}{b:02x}\")'''\n",
    "    else:\n",
    "        return f'''(red(img) =. {r}) & (green(img) =. {g}) & (blue(img) =. {b})'''\n",
    "\n",
    "\n",
    "def save(basename, output,form, is_graph):\n",
    "    p = Path(basename)\n",
    "    n = p.with_suffix(\"\").name\n",
    "    if is_graph:\n",
    "        return f'''save \"{output}/{n}_{form}.json\" {form}'''\n",
    "    else:\n",
    "        return f'''save \"{output}/{n}_{form}.png\" {form}'''\n",
    "\n",
    "\n",
    "def mazeSpecification(path, is_graph):\n",
    "    return f'''\n",
    "            load img = \"{path}\"    \n",
    "            let w = {colour(255,255,255,is_graph)}\n",
    "            let b = {colour(0,0,255,is_graph)}\n",
    "            let g = {colour(0,255,0,is_graph)}\n",
    "            let form1 = through(N b,w) & through(N g,w)\n",
    "            let form2 = through(N (w & !through(N g,w)),b) & through(N g,w)\n",
    "            let form3 = through(N form1,b)\n",
    "            {save(path,output,\"form1\",is_graph)}\n",
    "            {save(path,output,\"form2\",is_graph)}\n",
    "            {save(path,output,\"form3\",is_graph)}\n",
    "        '''\n",
    "\n",
    "def raiSpecification(path, is_graph):\n",
    "    return f'''\n",
    "            load img=\"{path}\"\n",
    "            \n",
    "            let y = {colour(255,255,0,is_graph)}\n",
    "            let c = {colour(0,255,255,is_graph)}\n",
    "            let g = {colour(0,255,0,is_graph)}\n",
    "            let m = {colour(255,0,255,is_graph)}\n",
    "            let r = {colour(255,0,0,is_graph)}\n",
    "            let b = {colour(0,0,255,is_graph)}\n",
    "            let gr = {colour(191,191,191,is_graph)}\n",
    "            let bl = {colour(0,0,0,is_graph)}\n",
    "            let w = {colour(255,255,255,is_graph)}\n",
    "            \n",
    "            let Z(phi1,phi2) = through(N phi2,phi1)\n",
    "            \n",
    "            let form1 = y Z c Z g Z m Z r Z b Z gr Z bl Z w Z gr Z bl Z y\n",
    "            {save(path,output,\"form1\",is_graph)}\n",
    "        '''\n",
    "\n",
    "\n",
    "def findSpec(img : str,is_graph = False):\n",
    "    specs = [ [\"maze\",mazeSpecification],[\"rai\",raiSpecification] ]\n",
    "    for (prefix,spec) in specs:\n",
    "        if Path(img).name.startswith(prefix):\n",
    "            return spec(img,is_graph)\n",
    "    return None\n",
    "\n",
    "def modelChecker(image, spec, is_graph=False):\n",
    "    path = Path(image)\n",
    "    fname = tempfile.NamedTemporaryFile().name\n",
    "    f = open(fname, \"w\")\n",
    "    f.write(spec)\n",
    "    f.close()\n",
    "    if is_graph:\n",
    "        exe = graphlogica_exe\n",
    "    else:\n",
    "        exe = voxlogica_exe\n",
    "    return {\"args\": [exe, fname], \"label\": path.with_suffix(\"\").name, \"property\": \"maze\"}\n",
    "\n",
    "modelChecker_df = mk_df(\n",
    "    [run(modelChecker(image,spec))\n",
    "        for image in images if (spec:=findSpec(image)) if spec],\n",
    "    \"modelCheckingFull\")\n"
   ]
  },
  {
   "cell_type": "markdown",
   "metadata": {},
   "source": [
    "# Model Checking on the minimal graph using GraphLogicA"
   ]
  },
  {
   "cell_type": "code",
   "execution_count": null,
   "metadata": {},
   "outputs": [],
   "source": [
    "# def graphSpecification():\n",
    "#     gql = f'''\n",
    "#     load graph = \"mazeMin.json\"\n",
    "#     let w = ap(\"cFFFFFF\")\n",
    "#     let b = ap(\"c0000FF\")\n",
    "#     let g = ap(\"c00FF00\")\n",
    "#     let form1 = through(N b,w) & through(N g,w)\n",
    "#     let form2 = through(N (w & !through(N g,w)),b) & through(N g,w)\n",
    "#     let form3 = through(N form1,b)\n",
    "#     save \"output/form1.json\" form1\n",
    "#     save \"output/form2.json\" form2\n",
    "#     save \"output/form3.json\" form3\n",
    "#     '''\n",
    "#     fname = tempfile.NamedTemporaryFile().name\n",
    "#     f = open(fname,\"w\")\n",
    "#     f.write(gql)\n",
    "#     f.close()\n",
    "#     return run({\"args\" : [graphlogica_exe,fname], \"label\": \"modelCheckingMin\"},print_output=True)\n",
    "\n",
    "# graph_delta = graphSpecification()[\"delta\"]\n",
    "def graph(image):\n",
    "    path = Path(image)\n",
    "    o_path = Path(output)\n",
    "    j_path = o_path.joinpath(path.with_suffix(\".json\").name)\n",
    "    return(j_path)\n",
    "\n",
    "modelCheckerMin_df = mk_df(\n",
    "    [run(modelChecker(graph(image),spec,True))\n",
    "        for image in images if (spec:=findSpec(graph(image),True)) if spec],\n",
    "    \"modelCheckingMin\")"
   ]
  },
  {
   "cell_type": "code",
   "execution_count": null,
   "metadata": {},
   "outputs": [],
   "source": [
    "# Read automata statistics\n",
    "\n",
    "def autSize(image):\n",
    "    path = Path(image)\n",
    "    label = path.with_suffix(\"\").name\n",
    "    o_path = Path(output)\n",
    "    s_path = path.with_suffix(\".aut\").name\n",
    "    d_path = o_path.joinpath(s_path)\n",
    "    m_path = o_path.joinpath(Path(path.with_suffix(\"\").name + \"_min\").with_suffix(\".aut\"))\n",
    "    first_line = \"\"\n",
    "    first_line_min = \"\"\n",
    "    with open(d_path,\"r\") as file:\n",
    "        first_line = file.readline().lstrip(\"des \")\n",
    "    \n",
    "    with open(m_path,\"r\") as file:\n",
    "        first_line_min = file.readline().lstrip(\"des \")\n",
    "\n",
    "    t = literal_eval(first_line)\n",
    "    tmin = literal_eval(first_line_min)\n",
    "\n",
    "    return { \"transitions\": t[1], \"statesMin\": tmin[2] , \"transitionsMin\": tmin[1], \"label\": label }\n",
    "\n",
    "autSize_df = pd.DataFrame([ autSize(image) for image in images]).set_index(\"label\")\n",
    "\n",
    "    "
   ]
  },
  {
   "cell_type": "markdown",
   "metadata": {},
   "source": [
    "# Gather image sizes and produce the final table"
   ]
  },
  {
   "cell_type": "code",
   "execution_count": null,
   "metadata": {},
   "outputs": [],
   "source": [
    "def size(imgpath):    \n",
    "    path = Path(imgpath)\n",
    "    img = Image.open(imgpath)\n",
    "    return { \"pixels\": img.width * img.height, \"label\": path.with_suffix(\"\").name}\n",
    "\n",
    "size_df = pd.DataFrame([ size(image) for image in images]).set_index(\"label\")"
   ]
  },
  {
   "cell_type": "code",
   "execution_count": null,
   "metadata": {},
   "outputs": [],
   "source": [
    "df = size_df.join(autSize_df).join(fakeConverter_df).join(converter_df).join(minimizer_df).join(backConverter_df).join(modelChecker_df).join(modelCheckerMin_df)\n",
    "data = df.sort_values(by='pixels')\n",
    "data"
   ]
  },
  {
   "cell_type": "markdown",
   "metadata": {},
   "source": [
    "# Export data"
   ]
  },
  {
   "cell_type": "code",
   "execution_count": null,
   "metadata": {},
   "outputs": [],
   "source": [
    "df.to_csv(\"table.csv\")\n",
    "df.to_latex(\"table.tex\")\n",
    "df.to_markdown(\"table.md\")\n"
   ]
  },
  {
   "cell_type": "markdown",
   "metadata": {},
   "source": [
    "For batch execution: \n",
    "    \n",
    "    rm output -rf && jupyter nbconvert --to script --ExecutePreprocessor.timeout=1800 --execute testMin.ipynb"
   ]
  }
 ],
 "metadata": {
  "kernelspec": {
   "display_name": "Python 3.9.7 64-bit",
   "language": "python",
   "name": "python3"
  },
  "language_info": {
   "codemirror_mode": {
    "name": "ipython",
    "version": 3
   },
   "file_extension": ".py",
   "mimetype": "text/x-python",
   "name": "python",
   "nbconvert_exporter": "python",
   "pygments_lexer": "ipython3",
   "version": "3.9.7"
  },
  "orig_nbformat": 4,
  "vscode": {
   "interpreter": {
    "hash": "916dbcbb3f70747c44a77c7bcd40155683ae19c65e1c03b4aa3499c5328201f1"
   }
  }
 },
 "nbformat": 4,
 "nbformat_minor": 2
}

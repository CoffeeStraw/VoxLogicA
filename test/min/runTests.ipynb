{
 "cells": [
  {
   "cell_type": "markdown",
   "metadata": {},
   "source": [
    "# Python setup"
   ]
  },
  {
   "cell_type": "code",
   "execution_count": null,
   "metadata": {},
   "outputs": [],
   "source": [
    "import subprocess \n",
    "import time\n",
    "import glob\n",
    "import os\n",
    "from pathlib import Path\n",
    "import shutil\n",
    "import pandas as pd\n",
    "import tempfile\n",
    "from PIL import Image\n",
    "import resource\n",
    "from ast import literal_eval\n",
    "import json\n",
    "\n",
    "def run(obj,print_output=False):\n",
    "    start = time.perf_counter()\n",
    "    result = subprocess.run(obj[\"args\"],capture_output=True,text=True)    \n",
    "    if result.returncode != 0:\n",
    "        print(result.stdout)\n",
    "        print(result.stderr)\n",
    "        result.check_returncode()\n",
    "    else:\n",
    "        if print_output:\n",
    "            print(result.stdout)\n",
    "        return { \"delta\": time.perf_counter() - start, \"label\": obj[\"label\"],\"output\": result.stdout,\"error\": result.stderr, \"return_code\": result.returncode }\n",
    "    \n",
    "rid=\"linux-x64\"\n",
    "#converter_exe_rel=\"../../bin/release/net6.0/linux-x64/GraphLogicA\"\n",
    "converter_exe_rel=f\"../../src/bin/release/net6.0/{rid}/GraphLogicA\"\n",
    "converter_exe = Path(converter_exe_rel).absolute().as_posix()\n",
    "graphlogica_exe = converter_exe\n",
    "minimizer_exe = shutil.which(\"ltsconvert\")\n",
    "voxlogica_exe = f\"../../src/VoxLogicA_1.0-experimental_{rid}/VoxLogicA\"\n",
    "output=\"output\"\n",
    "#shutil.rmtree(output,ignore_errors=True)\n",
    "os.makedirs(output,exist_ok=True)\n",
    "images = glob.glob(\"test-images/*.png\")\n",
    "    \n",
    "def mk_df(results,delta_label):\n",
    "    return pd.DataFrame(results).set_index(\"label\").rename(columns={\"delta\": delta_label}).drop(columns=[\"output\",\"error\",\"return_code\"])\n",
    "# !(cd ../.. && dotnet build -c release -r $rid)\n",
    "resource.setrlimit(resource.RLIMIT_STACK, (resource.RLIM_INFINITY, resource.RLIM_INFINITY))"
   ]
  },
  {
   "cell_type": "markdown",
   "metadata": {},
   "source": [
    "# Convert images"
   ]
  },
  {
   "cell_type": "code",
   "execution_count": null,
   "metadata": {},
   "outputs": [],
   "source": [
    "def converter(image):\n",
    "    path = Path(image)\n",
    "    label = path.with_suffix(\"\").name\n",
    "    o_path = Path(output)\n",
    "    s_path = path.with_suffix(\".aut\").name\n",
    "    d_path = o_path.joinpath(s_path)\n",
    "    return { \"args\": [converter_exe,\"--convert\",path.as_posix(),d_path.as_posix()], \"label\": label }\n",
    "    #return (run(label,args))\n",
    "\n",
    "converter_df = mk_df([ run(converter(image)) for image in images ],\"conversionAndWrite\")\n"
   ]
  },
  {
   "cell_type": "markdown",
   "metadata": {},
   "source": [
    "# Minimize"
   ]
  },
  {
   "cell_type": "code",
   "execution_count": null,
   "metadata": {},
   "outputs": [],
   "source": [
    "def minimizer(image):\n",
    "    path = Path(image)\n",
    "    label = path.with_suffix(\"\").name\n",
    "    o_path = Path(output)\n",
    "    s_path = path.with_suffix(\".aut\").name\n",
    "    d_path = o_path.joinpath(s_path)\n",
    "    m_path = o_path.joinpath(\n",
    "        Path(path.with_suffix(\"\").name + \"_min\").with_suffix(\".aut\"))\n",
    "    return {\"args\": [minimizer_exe, \"--timings\", \"-ebranching-bisim\", d_path.as_posix(), m_path.as_posix()], \"label\": label}\n",
    "\n",
    "\n",
    "out = [run(minimizer(image)) for image in images]\n",
    "\n",
    "def f(x: str):\n",
    "    try:\n",
    "        return float(x)\n",
    "    except:\n",
    "        return False\n",
    "\n",
    "myLabels = { \"reachability check\": \"reachabilityCheck\", \"total\": \"mcrl2-int\" }\n",
    "\n",
    "for o in out:\n",
    "    lines: str = o[\"error\"].strip(\"- \").splitlines()\n",
    "    # res = {\n",
    "    #     x[0]: f(x[1]) for line in lines if (x := line.strip(\"' \").split(\":\")) if len(x) > 1 if f(x[1])\n",
    "    # }\n",
    "    for line in lines:\n",
    "        x = line.strip(\"' \").split(\":\")\n",
    "        if len(x) > 1:\n",
    "            fl = f(x[1])\n",
    "            l = x[0]\n",
    "            if l in myLabels.keys():\n",
    "                l = myLabels[l]\n",
    "            if fl:\n",
    "                o[l] = fl\n",
    "\n",
    "minimizer_df = mk_df(out, \"mcrl2\")\n",
    "minimizer_df\n"
   ]
  },
  {
   "cell_type": "markdown",
   "metadata": {},
   "source": [
    "# Convert the minimized model back"
   ]
  },
  {
   "cell_type": "code",
   "execution_count": null,
   "metadata": {},
   "outputs": [],
   "source": [
    "def convertBack(image):\n",
    "    path = Path(image)\n",
    "    label = path.with_suffix(\"\").name\n",
    "    o_path = Path(output)\n",
    "    s_path = path.with_suffix(\".aut\").name\n",
    "    d_path = o_path.joinpath(s_path)\n",
    "    m_path = o_path.joinpath(Path(path.with_suffix(\"\").name + \"_min\").with_suffix(\".aut\"))\n",
    "    j_path = o_path.joinpath(path.with_suffix(\".json\").name)\n",
    "    return { \"args\": [converter_exe,\"--convert\",m_path.as_posix(),j_path.as_posix()], \"label\": label }\n",
    "    #return (run(label,args))\n",
    "\n",
    "backConverter_df = mk_df([ run(convertBack(image)) for image in images ],\"convertBack\")\n"
   ]
  },
  {
   "cell_type": "markdown",
   "metadata": {},
   "source": [
    "# Convert without writing the file "
   ]
  },
  {
   "cell_type": "code",
   "execution_count": null,
   "metadata": {},
   "outputs": [],
   "source": [
    "def fakeConverter(image):\n",
    "    path = Path(image)\n",
    "    label = path.with_suffix(\"\").name\n",
    "    o_path = Path(output)\n",
    "    s_path = path.with_suffix(\".fake.aut\").name\n",
    "    d_path = o_path.joinpath(s_path)\n",
    "    return { \"args\": [converter_exe,\"--convert\",path.as_posix(),d_path.as_posix(),\"--fakeconversion\"], \"label\": label }\n",
    "    #return (run(label,args))\n",
    "\n",
    "fakeConverter_df = mk_df([ run(fakeConverter(image)) for image in images ],\"conversion\")\n"
   ]
  },
  {
   "cell_type": "markdown",
   "metadata": {},
   "source": [
    "# Model checking on images using VoxLogicA"
   ]
  },
  {
   "cell_type": "code",
   "execution_count": null,
   "metadata": {},
   "outputs": [],
   "source": [
    "def colour(r, g, b, is_graph=False):\n",
    "    if is_graph:\n",
    "        return f'''ap(\"{r:02x}{g:02x}{b:02x}\")'''\n",
    "    else:\n",
    "        return f'''(red(img) =. {r}) & (green(img) =. {g}) & (blue(img) =. {b})'''\n",
    "\n",
    "\n",
    "def save(basename, output,form, is_graph):\n",
    "    p = Path(basename)\n",
    "    n = p.with_suffix(\"\").name\n",
    "    if is_graph:\n",
    "        return f'''save \"{output}/{n}_{form}.json\" {form}'''\n",
    "    else:\n",
    "        return f'''save \"{output}/{n}_{form}.png\" {form}'''\n",
    "\n",
    "\n",
    "def mazeSpecification(path, is_graph):\n",
    "    return f'''\n",
    "            load img = \"{path}\"    \n",
    "            let w = {colour(255,255,255,is_graph)}\n",
    "            let b = {colour(0,0,255,is_graph)}\n",
    "            let g = {colour(0,255,0,is_graph)}\n",
    "            \n",
    "            let zeta(phi1,phi2) = phi1 | through(N phi1,phi2)\n",
    "         \n",
    "            let form1 = zeta(b,w) & zeta(g,w)\n",
    "            let form2 = b & (!zeta(zeta(g,w),b))\n",
    "            let form3 = b & (zeta(zeta(g,w),b))\n",
    "            {save(path,output,\"form1\",is_graph)}\n",
    "            {save(path,output,\"form2\",is_graph)}\n",
    "            {save(path,output,\"form3\",is_graph)}\n",
    "        '''\n",
    "\n",
    "def raiSpecification(path, is_graph):\n",
    "    return f'''\n",
    "            load img=\"{path}\"\n",
    "            \n",
    "            let y = {colour(255,255,0,is_graph)}\n",
    "            let c = {colour(0,255,255,is_graph)}\n",
    "            let g = {colour(0,255,0,is_graph)}\n",
    "            let m = {colour(255,0,255,is_graph)}\n",
    "            let r = {colour(255,0,0,is_graph)}\n",
    "            let b = {colour(0,0,255,is_graph)}\n",
    "            let gr = {colour(191,191,191,is_graph)}\n",
    "            let lgr = {colour(127,127,127,is_graph)}\n",
    "            let lb = {colour(100,150,255,is_graph)}\n",
    "            let lg = {colour(0,200,150,is_graph)}\n",
    "            let lm = {colour(200,50,100,is_graph)}\n",
    "            let bl = {colour(0,0,0,is_graph)}\n",
    "            let w = {colour(255,255,255,is_graph)}\n",
    "            let o = {colour(200,100,0,is_graph)}\n",
    "            \n",
    "            let zeta(phi1,phi2) = phi1 | through(N phi1,phi2)\n",
    "            let ZZ(phi1,phi2) = (!phi2) & zeta(phi2,phi1)\n",
    "            \n",
    "            let form1 = y ZZ c ZZ g ZZ m ZZ r ZZ b ZZ gr ZZ bl ZZ w ZZ gr ZZ bl ZZ w ZZ lgr ZZ lb ZZ lg ZZ lm ZZ o\n",
    "            {save(path,output,\"form1\",is_graph)}\n",
    "        '''\n",
    "\n",
    "\n",
    "def findSpec(img : str,is_graph = False):\n",
    "    specs = [ [\"maze\",mazeSpecification],[\"rai\",raiSpecification] ]\n",
    "    for (prefix,spec) in specs:\n",
    "        if Path(img).name.startswith(prefix):\n",
    "            return spec(img,is_graph)\n",
    "    return None\n",
    "\n",
    "def modelChecker(image, spec, is_graph=False):\n",
    "    path = Path(image)\n",
    "    if is_graph:\n",
    "        suffix=\".grql\"\n",
    "    else:\n",
    "        suffix=\".imgql\"\n",
    "    fname = Path(output).joinpath(path.with_suffix(suffix).name)    \n",
    "    f = open(fname, \"w\")\n",
    "    f.write(spec)\n",
    "    f.close()\n",
    "    if is_graph:\n",
    "        exe = graphlogica_exe\n",
    "    else:\n",
    "        exe = voxlogica_exe\n",
    "    return {\"args\": [exe, fname], \"label\": path.with_suffix(\"\").name, \"property\": \"maze\"}\n",
    "\n",
    "modelChecker_df = mk_df(\n",
    "    [run(modelChecker(image,spec))\n",
    "        for image in images if (spec:=findSpec(image)) if spec],\n",
    "    \"modelCheckingFull\")\n"
   ]
  },
  {
   "cell_type": "markdown",
   "metadata": {},
   "source": [
    "# Model Checking on the minimal graph using GraphLogicA"
   ]
  },
  {
   "cell_type": "code",
   "execution_count": null,
   "metadata": {},
   "outputs": [],
   "source": [
    "def graph(image):\n",
    "    path = Path(image)\n",
    "    o_path = Path(output)\n",
    "    j_path = o_path.joinpath(path.with_suffix(\".json\").name)\n",
    "    return(j_path)\n",
    "\n",
    "modelCheckerMin_df = mk_df(\n",
    "    [run(modelChecker(graph(image),spec,True))\n",
    "        for image in images if (spec:=findSpec(graph(image),True)) if spec],\n",
    "    \"modelCheckingMin\")"
   ]
  },
  {
   "cell_type": "code",
   "execution_count": null,
   "metadata": {},
   "outputs": [],
   "source": [
    "# Read automata statistics\n",
    "\n",
    "def autSize(image):\n",
    "    path = Path(image)\n",
    "    label = path.with_suffix(\"\").name\n",
    "    o_path = Path(output)\n",
    "    s_path = path.with_suffix(\".aut\").name\n",
    "    d_path = o_path.joinpath(s_path)\n",
    "    m_path = o_path.joinpath(Path(path.with_suffix(\"\").name + \"_min\").with_suffix(\".aut\"))\n",
    "    first_line = \"\"\n",
    "    first_line_min = \"\"\n",
    "    with open(d_path,\"r\") as file:\n",
    "        first_line = file.readline().lstrip(\"des \")\n",
    "    \n",
    "    with open(m_path,\"r\") as file:\n",
    "        first_line_min = file.readline().lstrip(\"des \")\n",
    "\n",
    "    autSize = float(os.path.getsize(d_path)) / 1024\n",
    "    minSize = float(os.path.getsize(m_path)) / 1024\n",
    "\n",
    "    t = literal_eval(first_line)\n",
    "    tmin = literal_eval(first_line_min)\n",
    "\n",
    "    return { \"transitions\": t[1], \"statesMin\": tmin[2] , \"transitionsMin\": tmin[1], \"label\": label, \"autSize\": autSize, \"minSize\": minSize }\n",
    "\n",
    "autSize_df = pd.DataFrame([ autSize(image) for image in images]).set_index(\"label\")\n",
    "\n",
    "    "
   ]
  },
  {
   "cell_type": "markdown",
   "metadata": {},
   "source": [
    "# Gather image sizes and produce the final table"
   ]
  },
  {
   "cell_type": "code",
   "execution_count": null,
   "metadata": {},
   "outputs": [],
   "source": [
    "def size(imgpath):    \n",
    "    path = Path(imgpath)\n",
    "    img = Image.open(imgpath)\n",
    "    imgSize = float(os.path.getsize(imgpath)) / 1024\n",
    "    return { \"pixels\": img.width * img.height, \"label\": path.with_suffix(\"\").name, \"imgSize\": imgSize}\n",
    "\n",
    "size_df = pd.DataFrame([ size(image) for image in images]).set_index(\"label\")"
   ]
  },
  {
   "cell_type": "code",
   "execution_count": null,
   "metadata": {},
   "outputs": [],
   "source": [
    "df = size_df.join(autSize_df).join(fakeConverter_df).join(converter_df).join(minimizer_df).join(backConverter_df).join(modelChecker_df).join(modelCheckerMin_df)\n",
    "data = df.sort_values(by='pixels')\n",
    "data"
   ]
  },
  {
   "cell_type": "markdown",
   "metadata": {},
   "source": [
    "# Export data"
   ]
  },
  {
   "cell_type": "code",
   "execution_count": null,
   "metadata": {},
   "outputs": [],
   "source": [
    "df.to_csv(\"rawdata.csv\")\n"
   ]
  },
  {
   "cell_type": "markdown",
   "metadata": {},
   "source": [
    "For batch execution: \n",
    "    \n",
    "    rm output -rf && jupyter nbconvert --to script --ExecutePreprocessor.timeout=18000 --execute testMin.ipynb"
   ]
  }
 ],
 "metadata": {
  "kernelspec": {
   "display_name": "Python 3.9.7 64-bit",
   "language": "python",
   "name": "python3"
  },
  "language_info": {
   "codemirror_mode": {
    "name": "ipython",
    "version": 3
   },
   "file_extension": ".py",
   "mimetype": "text/x-python",
   "name": "python",
   "nbconvert_exporter": "python",
   "pygments_lexer": "ipython3",
   "version": "3.9.7"
  },
  "orig_nbformat": 4,
  "vscode": {
   "interpreter": {
    "hash": "916dbcbb3f70747c44a77c7bcd40155683ae19c65e1c03b4aa3499c5328201f1"
   }
  }
 },
 "nbformat": 4,
 "nbformat_minor": 2
}

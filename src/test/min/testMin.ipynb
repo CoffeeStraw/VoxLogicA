{
 "cells": [
  {
   "cell_type": "markdown",
   "metadata": {},
   "source": [
    "# Python setup"
   ]
  },
  {
   "cell_type": "code",
   "execution_count": 1,
   "metadata": {},
   "outputs": [],
   "source": [
    "import subprocess \n",
    "import time\n",
    "import glob\n",
    "import os\n",
    "from pathlib import Path\n",
    "import shutil\n",
    "import pandas as pd\n",
    "import tempfile\n",
    "from PIL import Image\n",
    "import resource\n",
    "\n",
    "def run(obj,print_output=False):\n",
    "    start = time.perf_counter()\n",
    "    result = subprocess.run(obj[\"args\"],capture_output=True,text=True)    \n",
    "    if result.returncode != 0:\n",
    "        print(result.stdout)\n",
    "        print(result.stderr)\n",
    "        result.check_returncode()\n",
    "    else:\n",
    "        if print_output:\n",
    "            print(result.stdout)\n",
    "        return { \"delta\": time.perf_counter() - start, \"label\": obj[\"label\"],\"output\": result.stdout,\"error\": result.stderr, \"return_code\": result.returncode }\n",
    "    \n",
    "rid=\"linux-x64\"\n",
    "#converter_exe_rel=\"../../bin/release/net6.0/linux-x64/GraphLogicA\"\n",
    "converter_exe_rel=f\"../../bin/release/net6.0/{rid}/GraphLogicA\"\n",
    "converter_exe = Path(converter_exe_rel).absolute().as_posix()\n",
    "graphlogica_exe = converter_exe\n",
    "minimizer_exe = shutil.which(\"ltsconvert\")\n",
    "voxlogica_exe = f\"../../VoxLogicA_1.0-experimental_{rid}/VoxLogicA\"\n",
    "output=\"output\"\n",
    "#shutil.rmtree(output,ignore_errors=True)\n",
    "os.makedirs(output,exist_ok=True)\n",
    "images = glob.glob(\"test-images/*.png\")\n",
    "\n",
    "def mk_df(results,delta_label):\n",
    "    return pd.DataFrame(results).set_index(\"label\").rename(columns={\"delta\": delta_label}).drop(columns=[\"output\",\"error\",\"return_code\"])\n",
    "#!(cd ../.. && dotnet build -c release -r $rid)\n",
    "resource.setrlimit(resource.RLIMIT_STACK, (resource.RLIM_INFINITY, resource.RLIM_INFINITY))"
   ]
  },
  {
   "cell_type": "markdown",
   "metadata": {},
   "source": [
    "# Convert images"
   ]
  },
  {
   "cell_type": "code",
   "execution_count": 2,
   "metadata": {},
   "outputs": [],
   "source": [
    "def converter(image):\n",
    "    path = Path(image)\n",
    "    label = path.name\n",
    "    o_path = Path(output)\n",
    "    s_path = path.with_suffix(\".aut\").name\n",
    "    d_path = o_path.joinpath(s_path)\n",
    "    return { \"args\": [converter_exe,\"--convert\",path.as_posix(),d_path.as_posix()], \"label\": label }\n",
    "    #return (run(label,args))\n",
    "\n",
    "converter_df = mk_df([ run(converter(image)) for image in images ],\"conversionAndWrite\")\n"
   ]
  },
  {
   "cell_type": "markdown",
   "metadata": {},
   "source": [
    "# Minimize"
   ]
  },
  {
   "cell_type": "code",
   "execution_count": 3,
   "metadata": {},
   "outputs": [],
   "source": [
    "def minimizer(image):\n",
    "    path = Path(image)\n",
    "    label = path.name\n",
    "    o_path = Path(output)\n",
    "    s_path = path.with_suffix(\".aut\").name\n",
    "    d_path = o_path.joinpath(s_path)\n",
    "    m_path = o_path.joinpath(Path(path.with_suffix(\"\").name + \"_min\").with_suffix(\".aut\"))\n",
    "    return { \"args\": [minimizer_exe,\"-ebranching-bisim\",d_path.as_posix(),m_path.as_posix()], \"label\": label }\n",
    "\n",
    "minimizer_df = mk_df([ run(minimizer(image)) for image in images ],\"minimization\")\n"
   ]
  },
  {
   "cell_type": "markdown",
   "metadata": {},
   "source": [
    "# Convert without writing the file "
   ]
  },
  {
   "cell_type": "code",
   "execution_count": 4,
   "metadata": {},
   "outputs": [],
   "source": [
    "def fakeConverter(image):\n",
    "    path = Path(image)\n",
    "    label = path.name\n",
    "    o_path = Path(output)\n",
    "    s_path = path.with_suffix(\".aut\").name\n",
    "    d_path = o_path.joinpath(s_path)\n",
    "    return { \"args\": [converter_exe,\"--convert\",path.as_posix(),d_path.as_posix(),\"--fakeconversion\"], \"label\": label }\n",
    "    #return (run(label,args))\n",
    "\n",
    "fakeConverter_df = mk_df([ run(fakeConverter(image)) for image in images ],\"conversion\")\n"
   ]
  },
  {
   "cell_type": "markdown",
   "metadata": {},
   "source": [
    "# Model checking on images using VoxLogicA"
   ]
  },
  {
   "cell_type": "code",
   "execution_count": 5,
   "metadata": {},
   "outputs": [],
   "source": [
    "def mazeSpecification(path):\n",
    "    return f'''\n",
    "    load img = \"{path}\"\n",
    "    let colour(img,r,g,b) = (red(img) =. r) & (green(img) =. g) & (blue(img) =. b)\n",
    "    let w = colour(img,255,255,255)\n",
    "    let b = colour(img,0,0,255)\n",
    "    let g = colour(img,0,255,0)\n",
    "    let form1 = through(N b,w) & through(N g,w)\n",
    "    let form2 = through(N (w & !through(N g,w)),b) & through(N g,w)\n",
    "    let form3 = through(N form1,b)\n",
    "    save \"output/{path}/form1.png\" form1\n",
    "    save \"output/{path}/form2.png\" form2\n",
    "    save \"output/{path}/form3.png\" form3\n",
    "    '''\n",
    "\n",
    "def modelChecker(image):\n",
    "    path = Path(image)\n",
    "    spec = mazeSpecification(image)\n",
    "    fname = tempfile.NamedTemporaryFile().name\n",
    "    f = open(fname, \"w\")\n",
    "    f.write(spec)\n",
    "    f.close()\n",
    "    return { \"args\": [voxlogica_exe,fname], \"label\": path.name }\n",
    "\n",
    "modelChecker_df = mk_df([ run(modelChecker(image)) for image in images ],\"modelCheckingFull\")\n"
   ]
  },
  {
   "cell_type": "markdown",
   "metadata": {},
   "source": [
    "# Model Checking on the minimal graph using GraphLogicA"
   ]
  },
  {
   "cell_type": "code",
   "execution_count": 6,
   "metadata": {},
   "outputs": [
    {
     "name": "stdout",
     "output_type": "stream",
     "text": [
      "[        11ms] [info] GraphLogicA 0.4.1\n",
      "[       208ms] [info] Parsing input...\n",
      "[       243ms] [info] Preparing computation...\n",
      "[       251ms] [info] Importing file \"/home/vincenzo/data/local/repos/GraphLogicA/src/bin/release/net6.0/linux-x64/stdlib.imgql\"\n",
      "[       316ms] [info] Starting computation...\n",
      "[       316ms] [info] Running 19 tasks\n",
      "WARNING: You are using single-threaded workstation garbage collection, which means that parallel programs cannot scale.  Please configure your program to use server garbage collection.\n",
      "save to 'save to 'save to '\"/home/vincenzo/data/local/repos/GraphLogicA/src/test/min/output/form1.json\"': \"/home/vincenzo/data/local/repos/GraphLogicA/src/test/min/output/form2.json\"': \"/home/vincenzo/data/local/repos/GraphLogicA/src/test/min/output/form3.json\"': [|false; false; false; false; false; false; false|][|false; false; false; false; false; false; true|][|false; false; false; false; false; true; false|]\n",
      "\n",
      "\n",
      "[       343ms] [info] ... done.\n",
      "\n"
     ]
    }
   ],
   "source": [
    "def graphSpecification():\n",
    "    gql = f'''\n",
    "    load graph = \"mazeMin.json\"\n",
    "    let w = ap(\"cFFFFFF\")\n",
    "    let b = ap(\"c0000FF\")\n",
    "    let g = ap(\"c00FF00\")\n",
    "    let form1 = through(N b,w) & through(N g,w)\n",
    "    let form2 = through(N (w & !through(N g,w)),b) & through(N g,w)\n",
    "    let form3 = through(N form1,b)\n",
    "    save \"output/form1.json\" form1\n",
    "    save \"output/form2.json\" form2\n",
    "    save \"output/form3.json\" form3\n",
    "    '''\n",
    "    fname = tempfile.NamedTemporaryFile().name\n",
    "    f = open(fname,\"w\")\n",
    "    f.write(gql)\n",
    "    f.close()\n",
    "    return run({\"args\" : [graphlogica_exe,fname], \"label\": \"modelCheckingMin\"},print_output=True)\n",
    "\n",
    "graph_delta = graphSpecification()[\"delta\"]\n",
    "\n"
   ]
  },
  {
   "cell_type": "code",
   "execution_count": 7,
   "metadata": {},
   "outputs": [],
   "source": [
    "graph_true_delta = 0.02 # gotten by hand looking at the output"
   ]
  },
  {
   "cell_type": "markdown",
   "metadata": {},
   "source": [
    "# Gather image sizes and produce the final table"
   ]
  },
  {
   "cell_type": "code",
   "execution_count": 8,
   "metadata": {},
   "outputs": [],
   "source": [
    "def size(imgpath):    \n",
    "    path = Path(imgpath)\n",
    "    img = Image.open(imgpath)\n",
    "    return { \"pixels\": img.width * img.height, \"label\": path.name}\n",
    "\n",
    "size_df = pd.DataFrame([ size(image) for image in images]).set_index(\"label\")"
   ]
  },
  {
   "cell_type": "code",
   "execution_count": 9,
   "metadata": {},
   "outputs": [
    {
     "data": {
      "text/html": [
       "<div>\n",
       "<style scoped>\n",
       "    .dataframe tbody tr th:only-of-type {\n",
       "        vertical-align: middle;\n",
       "    }\n",
       "\n",
       "    .dataframe tbody tr th {\n",
       "        vertical-align: top;\n",
       "    }\n",
       "\n",
       "    .dataframe thead th {\n",
       "        text-align: right;\n",
       "    }\n",
       "</style>\n",
       "<table border=\"1\" class=\"dataframe\">\n",
       "  <thead>\n",
       "    <tr style=\"text-align: right;\">\n",
       "      <th></th>\n",
       "      <th>pixels</th>\n",
       "      <th>conversion</th>\n",
       "      <th>conversionAndWrite</th>\n",
       "      <th>minimization</th>\n",
       "      <th>modelCheckingFull</th>\n",
       "      <th>modelCheckingMin</th>\n",
       "      <th>modelCheckingMinLimit</th>\n",
       "      <th>idealTime</th>\n",
       "      <th>idealSpeedup</th>\n",
       "    </tr>\n",
       "    <tr>\n",
       "      <th>label</th>\n",
       "      <th></th>\n",
       "      <th></th>\n",
       "      <th></th>\n",
       "      <th></th>\n",
       "      <th></th>\n",
       "      <th></th>\n",
       "      <th></th>\n",
       "      <th></th>\n",
       "      <th></th>\n",
       "    </tr>\n",
       "  </thead>\n",
       "  <tbody>\n",
       "    <tr>\n",
       "      <th>maze-128.png</th>\n",
       "      <td>16384</td>\n",
       "      <td>0.313659</td>\n",
       "      <td>0.448184</td>\n",
       "      <td>0.040439</td>\n",
       "      <td>0.407990</td>\n",
       "      <td>0.404271</td>\n",
       "      <td>0.02</td>\n",
       "      <td>0.333659</td>\n",
       "      <td>1.222775</td>\n",
       "    </tr>\n",
       "    <tr>\n",
       "      <th>maze-256.png</th>\n",
       "      <td>65536</td>\n",
       "      <td>0.309068</td>\n",
       "      <td>0.370617</td>\n",
       "      <td>0.124383</td>\n",
       "      <td>0.437770</td>\n",
       "      <td>0.404271</td>\n",
       "      <td>0.02</td>\n",
       "      <td>0.329068</td>\n",
       "      <td>1.330333</td>\n",
       "    </tr>\n",
       "    <tr>\n",
       "      <th>maze-512.png</th>\n",
       "      <td>262144</td>\n",
       "      <td>0.367882</td>\n",
       "      <td>0.642977</td>\n",
       "      <td>1.180128</td>\n",
       "      <td>0.477502</td>\n",
       "      <td>0.404271</td>\n",
       "      <td>0.02</td>\n",
       "      <td>0.387882</td>\n",
       "      <td>1.231051</td>\n",
       "    </tr>\n",
       "    <tr>\n",
       "      <th>maze-1024.png</th>\n",
       "      <td>1048576</td>\n",
       "      <td>0.350777</td>\n",
       "      <td>1.232414</td>\n",
       "      <td>1.941747</td>\n",
       "      <td>0.593413</td>\n",
       "      <td>0.404271</td>\n",
       "      <td>0.02</td>\n",
       "      <td>0.370777</td>\n",
       "      <td>1.600459</td>\n",
       "    </tr>\n",
       "    <tr>\n",
       "      <th>rai.png</th>\n",
       "      <td>2073600</td>\n",
       "      <td>0.407311</td>\n",
       "      <td>2.316466</td>\n",
       "      <td>3.923815</td>\n",
       "      <td>0.618447</td>\n",
       "      <td>0.404271</td>\n",
       "      <td>0.02</td>\n",
       "      <td>0.427311</td>\n",
       "      <td>1.447298</td>\n",
       "    </tr>\n",
       "    <tr>\n",
       "      <th>maze-2048.png</th>\n",
       "      <td>4194304</td>\n",
       "      <td>0.510984</td>\n",
       "      <td>4.181765</td>\n",
       "      <td>7.958157</td>\n",
       "      <td>0.902640</td>\n",
       "      <td>0.404271</td>\n",
       "      <td>0.02</td>\n",
       "      <td>0.530984</td>\n",
       "      <td>1.699937</td>\n",
       "    </tr>\n",
       "    <tr>\n",
       "      <th>maze-4096.png</th>\n",
       "      <td>16777216</td>\n",
       "      <td>1.085525</td>\n",
       "      <td>16.233358</td>\n",
       "      <td>32.402689</td>\n",
       "      <td>2.005657</td>\n",
       "      <td>0.404271</td>\n",
       "      <td>0.02</td>\n",
       "      <td>1.105525</td>\n",
       "      <td>1.814212</td>\n",
       "    </tr>\n",
       "  </tbody>\n",
       "</table>\n",
       "</div>"
      ],
      "text/plain": [
       "                 pixels  conversion  conversionAndWrite  minimization  \\\n",
       "label                                                                   \n",
       "maze-128.png      16384    0.313659            0.448184      0.040439   \n",
       "maze-256.png      65536    0.309068            0.370617      0.124383   \n",
       "maze-512.png     262144    0.367882            0.642977      1.180128   \n",
       "maze-1024.png   1048576    0.350777            1.232414      1.941747   \n",
       "rai.png         2073600    0.407311            2.316466      3.923815   \n",
       "maze-2048.png   4194304    0.510984            4.181765      7.958157   \n",
       "maze-4096.png  16777216    1.085525           16.233358     32.402689   \n",
       "\n",
       "               modelCheckingFull  modelCheckingMin  modelCheckingMinLimit  \\\n",
       "label                                                                       \n",
       "maze-128.png            0.407990          0.404271                   0.02   \n",
       "maze-256.png            0.437770          0.404271                   0.02   \n",
       "maze-512.png            0.477502          0.404271                   0.02   \n",
       "maze-1024.png           0.593413          0.404271                   0.02   \n",
       "rai.png                 0.618447          0.404271                   0.02   \n",
       "maze-2048.png           0.902640          0.404271                   0.02   \n",
       "maze-4096.png           2.005657          0.404271                   0.02   \n",
       "\n",
       "               idealTime  idealSpeedup  \n",
       "label                                   \n",
       "maze-128.png    0.333659      1.222775  \n",
       "maze-256.png    0.329068      1.330333  \n",
       "maze-512.png    0.387882      1.231051  \n",
       "maze-1024.png   0.370777      1.600459  \n",
       "rai.png         0.427311      1.447298  \n",
       "maze-2048.png   0.530984      1.699937  \n",
       "maze-4096.png   1.105525      1.814212  "
      ]
     },
     "execution_count": 9,
     "metadata": {},
     "output_type": "execute_result"
    }
   ],
   "source": [
    "df = size_df.join(fakeConverter_df).join(converter_df).join(minimizer_df).join(modelChecker_df)\n",
    "df[\"modelCheckingMin\"] = graph_delta\n",
    "df[\"modelCheckingMinLimit\"] = graph_true_delta\n",
    "df[\"idealTime\"] = df[\"conversion\"] + df[\"modelCheckingMinLimit\"]\n",
    "df[\"idealSpeedup\"] = df[\"modelCheckingFull\"] / df[\"idealTime\"]\n",
    "df.sort_values(by='pixels')"
   ]
  },
  {
   "cell_type": "code",
   "execution_count": null,
   "metadata": {},
   "outputs": [],
   "source": []
  }
 ],
 "metadata": {
  "kernelspec": {
   "display_name": "Python 3.9.7 64-bit",
   "language": "python",
   "name": "python3"
  },
  "language_info": {
   "codemirror_mode": {
    "name": "ipython",
    "version": 3
   },
   "file_extension": ".py",
   "mimetype": "text/x-python",
   "name": "python",
   "nbconvert_exporter": "python",
   "pygments_lexer": "ipython3",
   "version": "3.9.7"
  },
  "orig_nbformat": 4,
  "vscode": {
   "interpreter": {
    "hash": "916dbcbb3f70747c44a77c7bcd40155683ae19c65e1c03b4aa3499c5328201f1"
   }
  }
 },
 "nbformat": 4,
 "nbformat_minor": 2
}

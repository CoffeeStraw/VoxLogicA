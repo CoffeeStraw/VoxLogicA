{
 "cells": [
  {
   "cell_type": "markdown",
   "metadata": {},
   "source": [
    "statistica: numero di pixel nell'originale, numero di stati nel modello\n",
    "minimizzato, tempi di model-checking con voxlogica sull'originale vs.\n",
    "con graphlogica sul LTS minimizzato (anche se non possiamo visualizzare\n",
    "il risultato, ma sara' future work).\n"
   ]
  },
  {
   "cell_type": "code",
   "execution_count": 1,
   "metadata": {},
   "outputs": [],
   "source": [
    "import subprocess \n",
    "import time\n",
    "import glob\n",
    "import os\n",
    "from pathlib import Path\n",
    "import shutil\n",
    "import pandas as pd\n",
    "\n",
    "def run(obj):\n",
    "    start = time.perf_counter()\n",
    "    result = subprocess.run(obj[\"args\"],capture_output=True,text=True)\n",
    "    return { \"delta\": time.perf_counter() - start, \"label\": obj[\"label\"],\"output\": result.stdout,\"error\": result.stderr, \"return_code\": result.returncode }\n",
    "\n",
    "converter_exe_rel=\"../../../releases/GraphLogicA_0.4_win-x64/GraphLogicA.exe\"\n",
    "converter_exe = Path(converter_exe_rel).absolute().as_posix()\n",
    "minimizer_exe = shutil.which(\"ltsconvert\")\n",
    "output=\"output\"\n",
    "shutil.rmtree(output)\n",
    "os.makedirs(output,exist_ok=True)\n",
    "images = glob.glob(\"test-images/*.png\")\n",
    "\n",
    "def mk_df(results,delta_label):\n",
    "    return pd.DataFrame(results).set_index(\"label\").rename(columns={\"delta\": delta_label}).drop(columns=[\"output\",\"error\",\"return_code\"])"
   ]
  },
  {
   "cell_type": "code",
   "execution_count": 2,
   "metadata": {},
   "outputs": [],
   "source": [
    "def converter(image):\n",
    "    path = Path(image)\n",
    "    label = path.name\n",
    "    o_path = Path(output)\n",
    "    s_path = path.with_suffix(\".aut\").name\n",
    "    d_path = o_path.joinpath(s_path)\n",
    "    return { \"args\": [converter_exe,\"--convert\",path.as_posix(),d_path.as_posix()], \"label\": label }\n",
    "    #return (run(label,args))\n",
    "\n",
    "converter_df = mk_df([ run(converter(image)) for image in images ],\"conversion\")\n"
   ]
  },
  {
   "cell_type": "code",
   "execution_count": null,
   "metadata": {},
   "outputs": [],
   "source": [
    "def minimizer(image):\n",
    "    path = Path(image)\n",
    "    label = path.name\n",
    "    o_path = Path(output)\n",
    "    s_path = path.with_suffix(\".aut\").name\n",
    "    d_path = o_path.joinpath(s_path)\n",
    "    m_path = o_path.joinpath(Path(path.with_suffix(\"\").name + \"_min\").with_suffix(\".aut\"))\n",
    "    return { \"args\": [minimizer_exe,\"-ebranching-bisim\",d_path.as_posix(),m_path.as_posix()], \"label\": label }\n",
    "\n",
    "minimizer_df = mk_df([ run(minimizer(image)) for image in images ],\"minimization\")\n"
   ]
  },
  {
   "cell_type": "code",
   "execution_count": null,
   "metadata": {},
   "outputs": [
    {
     "data": {
      "text/html": [
       "<div>\n",
       "<style scoped>\n",
       "    .dataframe tbody tr th:only-of-type {\n",
       "        vertical-align: middle;\n",
       "    }\n",
       "\n",
       "    .dataframe tbody tr th {\n",
       "        vertical-align: top;\n",
       "    }\n",
       "\n",
       "    .dataframe thead th {\n",
       "        text-align: right;\n",
       "    }\n",
       "</style>\n",
       "<table border=\"1\" class=\"dataframe\">\n",
       "  <thead>\n",
       "    <tr style=\"text-align: right;\">\n",
       "      <th></th>\n",
       "      <th>conversion</th>\n",
       "      <th>minimizer</th>\n",
       "    </tr>\n",
       "    <tr>\n",
       "      <th>label</th>\n",
       "      <th></th>\n",
       "      <th></th>\n",
       "    </tr>\n",
       "  </thead>\n",
       "  <tbody>\n",
       "    <tr>\n",
       "      <th>MMtest1.png</th>\n",
       "      <td>4.698367</td>\n",
       "      <td>0.137208</td>\n",
       "    </tr>\n",
       "  </tbody>\n",
       "</table>\n",
       "</div>"
      ],
      "text/plain": [
       "             conversion  minimizer\n",
       "label                             \n",
       "MMtest1.png    4.698367   0.137208"
      ]
     },
     "execution_count": 21,
     "metadata": {},
     "output_type": "execute_result"
    }
   ],
   "source": [
    "df = converter_df.join(minimizer_df)\n",
    "df"
   ]
  }
 ],
 "metadata": {
  "kernelspec": {
   "display_name": "Python 3.10.0 64-bit",
   "language": "python",
   "name": "python3"
  },
  "language_info": {
   "codemirror_mode": {
    "name": "ipython",
    "version": 3
   },
   "file_extension": ".py",
   "mimetype": "text/x-python",
   "name": "python",
   "nbconvert_exporter": "python",
   "pygments_lexer": "ipython3",
   "version": "3.10.0"
  },
  "orig_nbformat": 4,
  "vscode": {
   "interpreter": {
    "hash": "369f2c481f4da34e4445cda3fffd2e751bd1c4d706f27375911949ba6bb62e1c"
   }
  }
 },
 "nbformat": 4,
 "nbformat_minor": 2
}

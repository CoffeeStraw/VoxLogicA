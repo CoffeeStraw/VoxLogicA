{
 "cells": [
  {
   "cell_type": "markdown",
   "metadata": {},
   "source": [
    "# 1. Python setup"
   ]
  },
  {
   "cell_type": "code",
   "execution_count": 1,
   "metadata": {},
   "outputs": [],
   "source": [
    "import subprocess \n",
    "import time\n",
    "import glob\n",
    "import os\n",
    "from pathlib import Path\n",
    "import shutil\n",
    "import pandas as pd\n",
    "import tempfile\n",
    "from PIL import Image\n",
    "\n",
    "def run(obj,print_output=False):\n",
    "    start = time.perf_counter()\n",
    "    result = subprocess.run(obj[\"args\"],capture_output=True,text=True)    \n",
    "    if result.returncode != 0:\n",
    "        print(result.stdout)\n",
    "        print(result.stderr)\n",
    "        result.check_returncode()\n",
    "    else:\n",
    "        if print_output:\n",
    "            print(result.stdout)\n",
    "        return { \"delta\": time.perf_counter() - start, \"label\": obj[\"label\"],\"output\": result.stdout,\"error\": result.stderr, \"return_code\": result.returncode }\n",
    "    \n",
    "rid=\"win-x64\"\n",
    "#converter_exe_rel=\"../../bin/release/net6.0/linux-x64/GraphLogicA\"\n",
    "converter_exe_rel=f\"../../bin/release/net6.0/{rid}/GraphLogicA\"\n",
    "converter_exe = Path(converter_exe_rel).absolute().as_posix()\n",
    "graphlogica_exe = converter_exe\n",
    "minimizer_exe = shutil.which(\"ltsconvert\")\n",
    "voxlogica_exe = f\"../../VoxLogicA_1.0-experimental_{rid}/VoxLogicA\"\n",
    "output=\"output\"\n",
    "#shutil.rmtree(output,ignore_errors=True)\n",
    "os.makedirs(output,exist_ok=True)\n",
    "images = glob.glob(\"test-images/*.png\")\n",
    "\n",
    "def mk_df(results,delta_label):\n",
    "    return pd.DataFrame(results).set_index(\"label\").rename(columns={\"delta\": delta_label}).drop(columns=[\"output\",\"error\",\"return_code\"])\n",
    "#!(cd ../.. && dotnet build -c release -r $rid)"
   ]
  },
  {
   "cell_type": "markdown",
   "metadata": {},
   "source": [
    "# 2. Convert images"
   ]
  },
  {
   "cell_type": "code",
   "execution_count": 10,
   "metadata": {},
   "outputs": [],
   "source": [
    "def converter(image):\n",
    "    path = Path(image)\n",
    "    label = path.name\n",
    "    o_path = Path(output)\n",
    "    s_path = path.with_suffix(\".aut\").name\n",
    "    d_path = o_path.joinpath(s_path)\n",
    "    return { \"args\": [converter_exe,\"--convert\",path.as_posix(),d_path.as_posix()], \"label\": label }\n",
    "    #return (run(label,args))\n",
    "\n",
    "converter_df = mk_df([ run(converter(image)) for image in images ],\"conversionAndWrite\")\n"
   ]
  },
  {
   "cell_type": "markdown",
   "metadata": {},
   "source": [
    "# 3. Minimize"
   ]
  },
  {
   "cell_type": "code",
   "execution_count": 4,
   "metadata": {},
   "outputs": [],
   "source": [
    "def minimizer(image):\n",
    "    path = Path(image)\n",
    "    label = path.name\n",
    "    o_path = Path(output)\n",
    "    s_path = path.with_suffix(\".aut\").name\n",
    "    d_path = o_path.joinpath(s_path)\n",
    "    m_path = o_path.joinpath(Path(path.with_suffix(\"\").name + \"_min\").with_suffix(\".aut\"))\n",
    "    return { \"args\": [minimizer_exe,\"-ebranching-bisim\",d_path.as_posix(),m_path.as_posix()], \"label\": label }\n",
    "\n",
    "minimizer_df = mk_df([ run(minimizer(image)) for image in images ],\"minimization\")\n"
   ]
  },
  {
   "cell_type": "markdown",
   "metadata": {},
   "source": [
    "# 4. Convert without writing the file "
   ]
  },
  {
   "cell_type": "code",
   "execution_count": 5,
   "metadata": {},
   "outputs": [],
   "source": [
    "def fakeConverter(image):\n",
    "    path = Path(image)\n",
    "    label = path.name\n",
    "    o_path = Path(output)\n",
    "    s_path = path.with_suffix(\".aut\").name\n",
    "    d_path = o_path.joinpath(s_path)\n",
    "    return { \"args\": [converter_exe,\"--convert\",path.as_posix(),d_path.as_posix(),\"--fakeconversion\"], \"label\": label }\n",
    "    #return (run(label,args))\n",
    "\n",
    "fakeConverter_df = mk_df([ run(fakeConverter(image)) for image in images ],\"conversion\")\n"
   ]
  },
  {
   "cell_type": "markdown",
   "metadata": {},
   "source": [
    "# 5. Model checking on images using VoxLogicA"
   ]
  },
  {
   "cell_type": "code",
   "execution_count": 27,
   "metadata": {},
   "outputs": [],
   "source": [
    "def mazeSpecification(path):\n",
    "    return f'''\n",
    "    load img = \"{path}\"\n",
    "    let colour(img,r,g,b) = (red(img) =. r) & (green(img) =. g) & (blue(img) =. b)\n",
    "    let w = colour(img,255,255,255)\n",
    "    let b = colour(img,0,0,255)\n",
    "    let g = colour(img,0,255,0)\n",
    "    let form1 = through(N b,w) & through(N g,w)\n",
    "    let form2 = through(N (w & !through(N g,w)),b) & through(N g,w)\n",
    "    let form3 = through(N form1,b)\n",
    "    save \"output/{path}/form1.png\" form1\n",
    "    save \"output/{path}/form2.png\" form2\n",
    "    save \"output/{path}/form3.png\" form3\n",
    "    '''\n",
    "\n",
    "def modelChecker(image):\n",
    "    path = Path(image)\n",
    "    spec = mazeSpecification(image)\n",
    "    fname = tempfile.NamedTemporaryFile().name\n",
    "    f = open(fname, \"w\")\n",
    "    f.write(spec)\n",
    "    f.close()\n",
    "    return { \"args\": [voxlogica_exe,fname], \"label\": path.name }\n",
    "\n",
    "modelChecker_df = mk_df([ run(modelChecker(image)) for image in images ],\"modelCheckingFull\")\n"
   ]
  },
  {
   "cell_type": "markdown",
   "metadata": {},
   "source": [
    "# 6. Model Checking on the minimal graph using GraphLogicA"
   ]
  },
  {
   "cell_type": "code",
   "execution_count": 31,
   "metadata": {},
   "outputs": [
    {
     "name": "stdout",
     "output_type": "stream",
     "text": [
      "[        19ms] [info] GraphLogicA 0.4.1\n",
      "[       308ms] [info] Parsing input...\n",
      "[       337ms] [info] Preparing computation...\n",
      "[       347ms] [info] Importing file \"c:\\Users\\vince\\data\\local\\repos\\GraphLogicA\\src\\bin\\release\\net6.0\\win-x64\\stdlib.imgql\"\n",
      "[       421ms] [info] Starting computation...\n",
      "[       422ms] [info] Running 19 tasks\n",
      "WARNING: You are using single-threaded workstation garbage collection, which means that parallel programs cannot scale.  Please configure your program to use server garbage collection.\n",
      "save to 'save to 'save to '\"c:\\Users\\vince\\data\\local\\repos\\GraphLogicA\\src\\test\\min\\output\\form3.json\"': \"c:\\Users\\vince\\data\\local\\repos\\GraphLogicA\\src\\test\\min\\output\\form1.json\"': \"c:\\Users\\vince\\data\\local\\repos\\GraphLogicA\\src\\test\\min\\output\\form2.json\"': [|false; false; false; false; false; true; false|][|false; false; false; false; false; false; true|]\n",
      "\n",
      "[|false; false; false; false; false; false; false|]\n",
      "[       456ms] [info] ... done.\n",
      "\n"
     ]
    }
   ],
   "source": [
    "def graphSpecification():\n",
    "    gql = f'''\n",
    "    load graph = \"mazeMin.json\"\n",
    "    let w = ap(\"cFFFFFF\")\n",
    "    let b = ap(\"c0000FF\")\n",
    "    let g = ap(\"c00FF00\")\n",
    "    let form1 = through(N b,w) & through(N g,w)\n",
    "    let form2 = through(N (w & !through(N g,w)),b) & through(N g,w)\n",
    "    let form3 = through(N form1,b)\n",
    "    save \"output/form1.json\" form1\n",
    "    save \"output/form2.json\" form2\n",
    "    save \"output/form3.json\" form3\n",
    "    '''\n",
    "    fname = tempfile.NamedTemporaryFile().name\n",
    "    f = open(fname,\"w\")\n",
    "    f.write(gql)\n",
    "    f.close()\n",
    "    return run({\"args\" : [graphlogica_exe,fname], \"label\": \"modelCheckingMin\"},print_output=True)\n",
    "\n",
    "graph_delta = graphSpecification()[\"delta\"]\n",
    "\n"
   ]
  },
  {
   "cell_type": "code",
   "execution_count": 35,
   "metadata": {},
   "outputs": [],
   "source": [
    "graph_true_delta = 0.03 # gotten by hand looking at the output"
   ]
  },
  {
   "cell_type": "markdown",
   "metadata": {},
   "source": [
    "# 7. Gather image sizes and produce the final table"
   ]
  },
  {
   "cell_type": "code",
   "execution_count": 36,
   "metadata": {},
   "outputs": [],
   "source": [
    "def size(imgpath):    \n",
    "    path = Path(imgpath)\n",
    "    img = Image.open(imgpath)\n",
    "    return { \"pixels\": img.width * img.height, \"label\": path.name}\n",
    "\n",
    "size_df = pd.DataFrame([ size(image) for image in images]).set_index(\"label\")"
   ]
  },
  {
   "cell_type": "code",
   "execution_count": 37,
   "metadata": {},
   "outputs": [
    {
     "data": {
      "text/html": [
       "<div>\n",
       "<style scoped>\n",
       "    .dataframe tbody tr th:only-of-type {\n",
       "        vertical-align: middle;\n",
       "    }\n",
       "\n",
       "    .dataframe tbody tr th {\n",
       "        vertical-align: top;\n",
       "    }\n",
       "\n",
       "    .dataframe thead th {\n",
       "        text-align: right;\n",
       "    }\n",
       "</style>\n",
       "<table border=\"1\" class=\"dataframe\">\n",
       "  <thead>\n",
       "    <tr style=\"text-align: right;\">\n",
       "      <th></th>\n",
       "      <th>pixels</th>\n",
       "      <th>conversion</th>\n",
       "      <th>conversionAndWrite</th>\n",
       "      <th>minimization</th>\n",
       "      <th>modelCheckingFull</th>\n",
       "      <th>modelCheckingMin</th>\n",
       "      <th>modelCheckingMinLimit</th>\n",
       "      <th>idealTime</th>\n",
       "      <th>idealSpeedup</th>\n",
       "    </tr>\n",
       "    <tr>\n",
       "      <th>label</th>\n",
       "      <th></th>\n",
       "      <th></th>\n",
       "      <th></th>\n",
       "      <th></th>\n",
       "      <th></th>\n",
       "      <th></th>\n",
       "      <th></th>\n",
       "      <th></th>\n",
       "      <th></th>\n",
       "    </tr>\n",
       "  </thead>\n",
       "  <tbody>\n",
       "    <tr>\n",
       "      <th>maze-128.png</th>\n",
       "      <td>16384</td>\n",
       "      <td>0.478657</td>\n",
       "      <td>0.512684</td>\n",
       "      <td>0.211862</td>\n",
       "      <td>0.547600</td>\n",
       "      <td>0.548696</td>\n",
       "      <td>0.03</td>\n",
       "      <td>0.508657</td>\n",
       "      <td>1.076560</td>\n",
       "    </tr>\n",
       "    <tr>\n",
       "      <th>maze-256.png</th>\n",
       "      <td>65536</td>\n",
       "      <td>0.473507</td>\n",
       "      <td>0.543980</td>\n",
       "      <td>0.768298</td>\n",
       "      <td>0.562825</td>\n",
       "      <td>0.548696</td>\n",
       "      <td>0.03</td>\n",
       "      <td>0.503507</td>\n",
       "      <td>1.117809</td>\n",
       "    </tr>\n",
       "    <tr>\n",
       "      <th>maze-512.png</th>\n",
       "      <td>262144</td>\n",
       "      <td>0.506660</td>\n",
       "      <td>0.782924</td>\n",
       "      <td>4.144565</td>\n",
       "      <td>0.677198</td>\n",
       "      <td>0.548696</td>\n",
       "      <td>0.03</td>\n",
       "      <td>0.536660</td>\n",
       "      <td>1.261875</td>\n",
       "    </tr>\n",
       "    <tr>\n",
       "      <th>maze-1024.png</th>\n",
       "      <td>1048576</td>\n",
       "      <td>0.671374</td>\n",
       "      <td>1.697129</td>\n",
       "      <td>13.961559</td>\n",
       "      <td>0.724873</td>\n",
       "      <td>0.548696</td>\n",
       "      <td>0.03</td>\n",
       "      <td>0.701374</td>\n",
       "      <td>1.033505</td>\n",
       "    </tr>\n",
       "    <tr>\n",
       "      <th>maze-2048.png</th>\n",
       "      <td>4194304</td>\n",
       "      <td>0.638944</td>\n",
       "      <td>5.798614</td>\n",
       "      <td>55.718948</td>\n",
       "      <td>1.133678</td>\n",
       "      <td>0.548696</td>\n",
       "      <td>0.03</td>\n",
       "      <td>0.668944</td>\n",
       "      <td>1.694727</td>\n",
       "    </tr>\n",
       "    <tr>\n",
       "      <th>maze-4096.png</th>\n",
       "      <td>16777216</td>\n",
       "      <td>1.521220</td>\n",
       "      <td>27.567164</td>\n",
       "      <td>251.049127</td>\n",
       "      <td>3.234077</td>\n",
       "      <td>0.548696</td>\n",
       "      <td>0.03</td>\n",
       "      <td>1.551220</td>\n",
       "      <td>2.084860</td>\n",
       "    </tr>\n",
       "  </tbody>\n",
       "</table>\n",
       "</div>"
      ],
      "text/plain": [
       "                 pixels  conversion  conversionAndWrite  minimization  \\\n",
       "label                                                                   \n",
       "maze-128.png      16384    0.478657            0.512684      0.211862   \n",
       "maze-256.png      65536    0.473507            0.543980      0.768298   \n",
       "maze-512.png     262144    0.506660            0.782924      4.144565   \n",
       "maze-1024.png   1048576    0.671374            1.697129     13.961559   \n",
       "maze-2048.png   4194304    0.638944            5.798614     55.718948   \n",
       "maze-4096.png  16777216    1.521220           27.567164    251.049127   \n",
       "\n",
       "               modelCheckingFull  modelCheckingMin  modelCheckingMinLimit  \\\n",
       "label                                                                       \n",
       "maze-128.png            0.547600          0.548696                   0.03   \n",
       "maze-256.png            0.562825          0.548696                   0.03   \n",
       "maze-512.png            0.677198          0.548696                   0.03   \n",
       "maze-1024.png           0.724873          0.548696                   0.03   \n",
       "maze-2048.png           1.133678          0.548696                   0.03   \n",
       "maze-4096.png           3.234077          0.548696                   0.03   \n",
       "\n",
       "               idealTime  idealSpeedup  \n",
       "label                                   \n",
       "maze-128.png    0.508657      1.076560  \n",
       "maze-256.png    0.503507      1.117809  \n",
       "maze-512.png    0.536660      1.261875  \n",
       "maze-1024.png   0.701374      1.033505  \n",
       "maze-2048.png   0.668944      1.694727  \n",
       "maze-4096.png   1.551220      2.084860  "
      ]
     },
     "execution_count": 37,
     "metadata": {},
     "output_type": "execute_result"
    }
   ],
   "source": [
    "df = size_df.join(fakeConverter_df).join(converter_df).join(minimizer_df).join(modelChecker_df)\n",
    "df[\"modelCheckingMin\"] = graph_delta\n",
    "df[\"modelCheckingMinLimit\"] = graph_true_delta\n",
    "df[\"idealTime\"] = df[\"conversion\"] + df[\"modelCheckingMinLimit\"]\n",
    "df[\"idealSpeedup\"] = df[\"modelCheckingFull\"] / df[\"idealTime\"]\n",
    "df.sort_values(by='pixels')"
   ]
  }
 ],
 "metadata": {
  "kernelspec": {
   "display_name": "Python 3.10.0 64-bit",
   "language": "python",
   "name": "python3"
  },
  "language_info": {
   "codemirror_mode": {
    "name": "ipython",
    "version": 3
   },
   "file_extension": ".py",
   "mimetype": "text/x-python",
   "name": "python",
   "nbconvert_exporter": "python",
   "pygments_lexer": "ipython3",
   "version": "3.10.0"
  },
  "orig_nbformat": 4,
  "vscode": {
   "interpreter": {
    "hash": "369f2c481f4da34e4445cda3fffd2e751bd1c4d706f27375911949ba6bb62e1c"
   }
  }
 },
 "nbformat": 4,
 "nbformat_minor": 2
}

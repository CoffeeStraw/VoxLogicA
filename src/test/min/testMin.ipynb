{
 "cells": [
  {
   "cell_type": "markdown",
   "metadata": {},
   "source": [
    "# Python setup"
   ]
  },
  {
   "cell_type": "code",
   "execution_count": 1,
   "metadata": {},
   "outputs": [
    {
     "name": "stdout",
     "output_type": "stream",
     "text": [
      "\u001b[?1h\u001b=MSBuild version 17.3.0+92e077650 for .NET\n",
      "  Individuazione dei progetti da ripristinare...\n",
      "  Tutti i progetti sono aggiornati per il ripristino.\n",
      "  Current version is - 0.4.1\n",
      "\u001b[m\u001b[33m/usr/share/dotnet/sdk/6.0.400/Sdks/Microsoft.NET.Sdk/targets/Microsoft.NET.Sdk.targets(1114,5): warning NETSDK1179: quando si usa '--runtime' è necessaria una delle opzioni '--self-contained' o '--no-self-contained'. [/home/vincenzo/data/local/repos/GraphLogicA/src/GraphLogicA.fsproj]\n",
      "\u001b[m  GraphLogicA -> /home/vincenzo/data/local/repos/GraphLogicA/src/bin/release/net6.0/linux-x64/GraphLogicA.dll\n",
      "  Copying files after build with RID=linux-x64\n",
      "\u001b[m\u001b[32m\n",
      "Compilazione completata.\n",
      "\u001b[m\n",
      "\u001b[m\u001b[33m/usr/share/dotnet/sdk/6.0.400/Sdks/Microsoft.NET.Sdk/targets/Microsoft.NET.Sdk.targets(1114,5): warning NETSDK1179: quando si usa '--runtime' è necessaria una delle opzioni '--self-contained' o '--no-self-contained'. [/home/vincenzo/data/local/repos/GraphLogicA/src/GraphLogicA.fsproj]\n",
      "\u001b[m\u001b[m\u001b[33m    Avvisi: 1\n",
      "\u001b[m    Errori: 0\n",
      "\u001b[m\n",
      "Tempo trascorso 00:00:00.76\n"
     ]
    }
   ],
   "source": [
    "import subprocess \n",
    "import time\n",
    "import glob\n",
    "import os\n",
    "from pathlib import Path\n",
    "import shutil\n",
    "import pandas as pd\n",
    "import tempfile\n",
    "from PIL import Image\n",
    "import resource\n",
    "from ast import literal_eval\n",
    "\n",
    "def run(obj,print_output=False):\n",
    "    start = time.perf_counter()\n",
    "    result = subprocess.run(obj[\"args\"],capture_output=True,text=True)    \n",
    "    if result.returncode != 0:\n",
    "        print(result.stdout)\n",
    "        print(result.stderr)\n",
    "        result.check_returncode()\n",
    "    else:\n",
    "        if print_output:\n",
    "            print(result.stdout)\n",
    "        return { \"delta\": time.perf_counter() - start, \"label\": obj[\"label\"],\"output\": result.stdout,\"error\": result.stderr, \"return_code\": result.returncode }\n",
    "    \n",
    "rid=\"linux-x64\"\n",
    "#converter_exe_rel=\"../../bin/release/net6.0/linux-x64/GraphLogicA\"\n",
    "converter_exe_rel=f\"../../bin/release/net6.0/{rid}/GraphLogicA\"\n",
    "converter_exe = Path(converter_exe_rel).absolute().as_posix()\n",
    "graphlogica_exe = converter_exe\n",
    "minimizer_exe = shutil.which(\"ltsconvert\")\n",
    "voxlogica_exe = f\"../../VoxLogicA_1.0-experimental_{rid}/VoxLogicA\"\n",
    "output=\"output\"\n",
    "#shutil.rmtree(output,ignore_errors=True)\n",
    "os.makedirs(output,exist_ok=True)\n",
    "images = glob.glob(\"test-images/*.png\")\n",
    "    \n",
    "def mk_df(results,delta_label):\n",
    "    return pd.DataFrame(results).set_index(\"label\").rename(columns={\"delta\": delta_label}).drop(columns=[\"output\",\"error\",\"return_code\"])\n",
    "!(cd ../.. && dotnet build -c release -r $rid)\n",
    "resource.setrlimit(resource.RLIMIT_STACK, (resource.RLIM_INFINITY, resource.RLIM_INFINITY))"
   ]
  },
  {
   "cell_type": "markdown",
   "metadata": {},
   "source": [
    "# Convert images"
   ]
  },
  {
   "cell_type": "code",
   "execution_count": 2,
   "metadata": {},
   "outputs": [],
   "source": [
    "def converter(image):\n",
    "    path = Path(image)\n",
    "    label = path.with_suffix(\"\").name\n",
    "    o_path = Path(output)\n",
    "    s_path = path.with_suffix(\".aut\").name\n",
    "    d_path = o_path.joinpath(s_path)\n",
    "    return { \"args\": [converter_exe,\"--convert\",path.as_posix(),d_path.as_posix()], \"label\": label }\n",
    "    #return (run(label,args))\n",
    "\n",
    "converter_df = mk_df([ run(converter(image)) for image in images ],\"conversionAndWrite\")\n"
   ]
  },
  {
   "cell_type": "markdown",
   "metadata": {},
   "source": [
    "# Minimize"
   ]
  },
  {
   "cell_type": "code",
   "execution_count": 3,
   "metadata": {},
   "outputs": [],
   "source": [
    "def minimizer(image):\n",
    "    path = Path(image)\n",
    "    label = path.with_suffix(\"\").name\n",
    "    o_path = Path(output)\n",
    "    s_path = path.with_suffix(\".aut\").name\n",
    "    d_path = o_path.joinpath(s_path)\n",
    "    m_path = o_path.joinpath(Path(path.with_suffix(\"\").name + \"_min\").with_suffix(\".aut\"))\n",
    "    return { \"args\": [minimizer_exe,\"-ebranching-bisim\",d_path.as_posix(),m_path.as_posix()], \"label\": label }\n",
    "\n",
    "minimizer_df = mk_df([ run(minimizer(image)) for image in images ],\"minimization\")\n"
   ]
  },
  {
   "cell_type": "markdown",
   "metadata": {},
   "source": [
    "# Convert the minimized model back"
   ]
  },
  {
   "cell_type": "code",
   "execution_count": 4,
   "metadata": {},
   "outputs": [],
   "source": [
    "def convertBack(image):\n",
    "    path = Path(image)\n",
    "    label = path.with_suffix(\"\").name\n",
    "    o_path = Path(output)\n",
    "    s_path = path.with_suffix(\".aut\").name\n",
    "    d_path = o_path.joinpath(s_path)\n",
    "    m_path = o_path.joinpath(Path(path.with_suffix(\"\").name + \"_min\").with_suffix(\".aut\"))\n",
    "    j_path = o_path.joinpath(path.with_suffix(\".json\").name)\n",
    "    return { \"args\": [converter_exe,\"--convert\",m_path.as_posix(),j_path.as_posix()], \"label\": label }\n",
    "    #return (run(label,args))\n",
    "\n",
    "backConverter_df = mk_df([ run(convertBack(image)) for image in images ],\"convertBack\")\n"
   ]
  },
  {
   "cell_type": "markdown",
   "metadata": {},
   "source": [
    "# Convert without writing the file "
   ]
  },
  {
   "cell_type": "code",
   "execution_count": 5,
   "metadata": {},
   "outputs": [],
   "source": [
    "def fakeConverter(image):\n",
    "    path = Path(image)\n",
    "    label = path.with_suffix(\"\").name\n",
    "    o_path = Path(output)\n",
    "    s_path = path.with_suffix(\".fake.aut\").name\n",
    "    d_path = o_path.joinpath(s_path)\n",
    "    return { \"args\": [converter_exe,\"--convert\",path.as_posix(),d_path.as_posix(),\"--fakeconversion\"], \"label\": label }\n",
    "    #return (run(label,args))\n",
    "\n",
    "fakeConverter_df = mk_df([ run(fakeConverter(image)) for image in images ],\"conversion\")\n"
   ]
  },
  {
   "cell_type": "code",
   "execution_count": 6,
   "metadata": {},
   "outputs": [
    {
     "data": {
      "text/plain": [
       "'1e'"
      ]
     },
     "execution_count": 6,
     "metadata": {},
     "output_type": "execute_result"
    }
   ],
   "source": [
    "f'''{30:02x}'''"
   ]
  },
  {
   "cell_type": "markdown",
   "metadata": {},
   "source": [
    "# Model checking on images using VoxLogicA"
   ]
  },
  {
   "cell_type": "code",
   "execution_count": 7,
   "metadata": {},
   "outputs": [],
   "source": [
    "def colour(r, g, b, is_graph=False):\n",
    "    if is_graph:\n",
    "        return f'''ap(\"{r:02x}{g:02x}{b:02x}\")'''\n",
    "    else:\n",
    "        return f'''(red(img) =. {r}) & (green(img) =. {g}) & (blue(img) =. {b})'''\n",
    "\n",
    "\n",
    "def save(basename, output,form, is_graph):\n",
    "    p = Path(basename)\n",
    "    n = p.with_suffix(\"\").name\n",
    "    if is_graph:\n",
    "        return f'''save \"{output}/{n}_{form}.json\" {form}'''\n",
    "    else:\n",
    "        return f'''save \"{output}/{n}_{form}.png\" {form}'''\n",
    "\n",
    "\n",
    "def mazeSpecification(path, is_graph):\n",
    "    return f'''\n",
    "            load img = \"{path}\"    \n",
    "            let w = {colour(255,255,255,is_graph)}\n",
    "            let b = {colour(0,0,255,is_graph)}\n",
    "            let g = {colour(0,255,0,is_graph)}\n",
    "            let form1 = through(N b,w) & through(N g,w)\n",
    "            let form2 = through(N (w & !through(N g,w)),b) & through(N g,w)\n",
    "            let form3 = through(N form1,b)\n",
    "            {save(path,output,\"form1\",is_graph)}\n",
    "            {save(path,output,\"form2\",is_graph)}\n",
    "            {save(path,output,\"form3\",is_graph)}\n",
    "        '''\n",
    "\n",
    "def raiSpecification(path, is_graph):\n",
    "    return f'''\n",
    "            load img=\"{path}\"\n",
    "            let form1 = {colour(255,0,0,is_graph)}\n",
    "            {save(path,output,\"form1\",is_graph)}\n",
    "        '''\n",
    "\n",
    "\n",
    "def findSpec(img : str,is_graph = False):\n",
    "    specs = [ [\"maze\",mazeSpecification],[\"rai\",raiSpecification] ]\n",
    "    for (prefix,spec) in specs:\n",
    "        if Path(img).name.startswith(prefix):\n",
    "            return spec(img,is_graph)\n",
    "    return None\n",
    "\n",
    "def modelChecker(image, spec, is_graph=False):\n",
    "    path = Path(image)\n",
    "    fname = tempfile.NamedTemporaryFile().name\n",
    "    f = open(fname, \"w\")\n",
    "    f.write(spec)\n",
    "    f.close()\n",
    "    if is_graph:\n",
    "        exe = graphlogica_exe\n",
    "    else:\n",
    "        exe = voxlogica_exe\n",
    "    return {\"args\": [exe, fname], \"label\": path.with_suffix(\"\").name, \"property\": \"maze\"}\n",
    "\n",
    "modelChecker_df = mk_df(\n",
    "    [run(modelChecker(image,spec))\n",
    "        for image in images if (spec:=findSpec(image)) if spec],\n",
    "    \"modelCheckingFull\")\n"
   ]
  },
  {
   "cell_type": "markdown",
   "metadata": {},
   "source": [
    "# Model Checking on the minimal graph using GraphLogicA"
   ]
  },
  {
   "cell_type": "code",
   "execution_count": 8,
   "metadata": {},
   "outputs": [],
   "source": [
    "# def graphSpecification():\n",
    "#     gql = f'''\n",
    "#     load graph = \"mazeMin.json\"\n",
    "#     let w = ap(\"cFFFFFF\")\n",
    "#     let b = ap(\"c0000FF\")\n",
    "#     let g = ap(\"c00FF00\")\n",
    "#     let form1 = through(N b,w) & through(N g,w)\n",
    "#     let form2 = through(N (w & !through(N g,w)),b) & through(N g,w)\n",
    "#     let form3 = through(N form1,b)\n",
    "#     save \"output/form1.json\" form1\n",
    "#     save \"output/form2.json\" form2\n",
    "#     save \"output/form3.json\" form3\n",
    "#     '''\n",
    "#     fname = tempfile.NamedTemporaryFile().name\n",
    "#     f = open(fname,\"w\")\n",
    "#     f.write(gql)\n",
    "#     f.close()\n",
    "#     return run({\"args\" : [graphlogica_exe,fname], \"label\": \"modelCheckingMin\"},print_output=True)\n",
    "\n",
    "# graph_delta = graphSpecification()[\"delta\"]\n",
    "def graph(image):\n",
    "    path = Path(image)\n",
    "    o_path = Path(output)\n",
    "    j_path = o_path.joinpath(path.with_suffix(\".json\").name)\n",
    "    return(j_path)\n",
    "\n",
    "modelCheckerMin_df = mk_df(\n",
    "    [run(modelChecker(graph(image),spec,True))\n",
    "        for image in images if (spec:=findSpec(graph(image),True)) if spec],\n",
    "    \"modelCheckingMin\")"
   ]
  },
  {
   "cell_type": "code",
   "execution_count": 9,
   "metadata": {},
   "outputs": [
    {
     "data": {
      "text/html": [
       "<div>\n",
       "<style scoped>\n",
       "    .dataframe tbody tr th:only-of-type {\n",
       "        vertical-align: middle;\n",
       "    }\n",
       "\n",
       "    .dataframe tbody tr th {\n",
       "        vertical-align: top;\n",
       "    }\n",
       "\n",
       "    .dataframe thead th {\n",
       "        text-align: right;\n",
       "    }\n",
       "</style>\n",
       "<table border=\"1\" class=\"dataframe\">\n",
       "  <thead>\n",
       "    <tr style=\"text-align: right;\">\n",
       "      <th></th>\n",
       "      <th>modelCheckingMin</th>\n",
       "    </tr>\n",
       "    <tr>\n",
       "      <th>label</th>\n",
       "      <th></th>\n",
       "    </tr>\n",
       "  </thead>\n",
       "  <tbody>\n",
       "    <tr>\n",
       "      <th>maze-128.json</th>\n",
       "      <td>0.398970</td>\n",
       "    </tr>\n",
       "    <tr>\n",
       "      <th>rai-260.json</th>\n",
       "      <td>0.516468</td>\n",
       "    </tr>\n",
       "  </tbody>\n",
       "</table>\n",
       "</div>"
      ],
      "text/plain": [
       "               modelCheckingMin\n",
       "label                          \n",
       "maze-128.json          0.398970\n",
       "rai-260.json           0.516468"
      ]
     },
     "execution_count": 9,
     "metadata": {},
     "output_type": "execute_result"
    }
   ],
   "source": [
    "modelCheckerMin_df"
   ]
  },
  {
   "cell_type": "code",
   "execution_count": 21,
   "metadata": {},
   "outputs": [],
   "source": [
    "#graph_true_delta = 0.02 # gotten by hand looking at the output"
   ]
  },
  {
   "cell_type": "code",
   "execution_count": 11,
   "metadata": {},
   "outputs": [],
   "source": [
    "# Read automata statistics\n",
    "\n",
    "def autSize(image):\n",
    "    path = Path(image)\n",
    "    label = path.name\n",
    "    o_path = Path(output)\n",
    "    s_path = path.with_suffix(\".aut\").name\n",
    "    d_path = o_path.joinpath(s_path)\n",
    "    m_path = o_path.joinpath(Path(path.with_suffix(\"\").name + \"_min\").with_suffix(\".aut\"))\n",
    "    first_line = \"\"\n",
    "    first_line_min = \"\"\n",
    "    with open(d_path,\"r\") as file:\n",
    "        first_line = file.readline().lstrip(\"des \")\n",
    "    \n",
    "    with open(m_path,\"r\") as file:\n",
    "        first_line_min = file.readline().lstrip(\"des \")\n",
    "\n",
    "    t = literal_eval(first_line)\n",
    "    tmin = literal_eval(first_line_min)\n",
    "\n",
    "    return { \"states\": t[2], \"transitions\": t[1], \"statesMin\": tmin[2] , \"transitionsMin\": tmin[1], \"label\": label }\n",
    "\n",
    "autSize_df = pd.DataFrame([ autSize(image) for image in images]).set_index(\"label\")\n",
    "\n",
    "    "
   ]
  },
  {
   "cell_type": "markdown",
   "metadata": {},
   "source": [
    "# Gather image sizes and produce the final table"
   ]
  },
  {
   "cell_type": "code",
   "execution_count": 12,
   "metadata": {},
   "outputs": [],
   "source": [
    "def size(imgpath):    \n",
    "    path = Path(imgpath)\n",
    "    img = Image.open(imgpath)\n",
    "    return { \"pixels\": img.width * img.height, \"label\": path.name}\n",
    "\n",
    "size_df = pd.DataFrame([ size(image) for image in images]).set_index(\"label\")"
   ]
  },
  {
   "cell_type": "code",
   "execution_count": 20,
   "metadata": {},
   "outputs": [
    {
     "data": {
      "text/html": [
       "<div>\n",
       "<style scoped>\n",
       "    .dataframe tbody tr th:only-of-type {\n",
       "        vertical-align: middle;\n",
       "    }\n",
       "\n",
       "    .dataframe tbody tr th {\n",
       "        vertical-align: top;\n",
       "    }\n",
       "\n",
       "    .dataframe thead th {\n",
       "        text-align: right;\n",
       "    }\n",
       "</style>\n",
       "<table border=\"1\" class=\"dataframe\">\n",
       "  <thead>\n",
       "    <tr style=\"text-align: right;\">\n",
       "      <th></th>\n",
       "      <th>pixels</th>\n",
       "      <th>states</th>\n",
       "      <th>transitions</th>\n",
       "      <th>statesMin</th>\n",
       "      <th>transitionsMin</th>\n",
       "      <th>modelCheckingMin</th>\n",
       "    </tr>\n",
       "    <tr>\n",
       "      <th>label</th>\n",
       "      <th></th>\n",
       "      <th></th>\n",
       "      <th></th>\n",
       "      <th></th>\n",
       "      <th></th>\n",
       "      <th></th>\n",
       "    </tr>\n",
       "  </thead>\n",
       "  <tbody>\n",
       "    <tr>\n",
       "      <th>maze-128.png</th>\n",
       "      <td>16384</td>\n",
       "      <td>16384</td>\n",
       "      <td>145924</td>\n",
       "      <td>7</td>\n",
       "      <td>21</td>\n",
       "      <td>NaN</td>\n",
       "    </tr>\n",
       "    <tr>\n",
       "      <th>rai-260.png</th>\n",
       "      <td>124800</td>\n",
       "      <td>124800</td>\n",
       "      <td>1118764</td>\n",
       "      <td>315</td>\n",
       "      <td>1841</td>\n",
       "      <td>NaN</td>\n",
       "    </tr>\n",
       "  </tbody>\n",
       "</table>\n",
       "</div>"
      ],
      "text/plain": [
       "              pixels  states  transitions  statesMin  transitionsMin  \\\n",
       "label                                                                  \n",
       "maze-128.png   16384   16384       145924          7              21   \n",
       "rai-260.png   124800  124800      1118764        315            1841   \n",
       "\n",
       "              modelCheckingMin  \n",
       "label                           \n",
       "maze-128.png               NaN  \n",
       "rai-260.png                NaN  "
      ]
     },
     "execution_count": 20,
     "metadata": {},
     "output_type": "execute_result"
    }
   ],
   "source": [
    "#df = size_df.join(autSize_df).join(fakeConverter_df).join(converter_df).join(minimizer_df).join(backConverter_df).join(modelChecker_df).join(modelCheckerMin_df)\n",
    "df = size_df.join(autSize_df).join(modelCheckerMin_df)\n",
    "#df[\"modelCheckingMinLimit\"] = graph_true_delta\n",
    "# df[\"idealTime\"] = df[\"conversion\"] + df[\"modelCheckingMinLimit\"]\n",
    "# df[\"idealSpeedup\"] = df[\"modelCheckingFull\"] / df[\"idealTime\"]\n",
    "#data = df.sort_values(by='pixels')\n",
    "data"
   ]
  },
  {
   "cell_type": "markdown",
   "metadata": {},
   "source": [
    "# Export data"
   ]
  },
  {
   "cell_type": "code",
   "execution_count": 14,
   "metadata": {},
   "outputs": [],
   "source": [
    "#df.to_latex(\"table.tex\")"
   ]
  },
  {
   "cell_type": "code",
   "execution_count": 15,
   "metadata": {},
   "outputs": [
    {
     "data": {
      "text/html": [
       "<div>\n",
       "<style scoped>\n",
       "    .dataframe tbody tr th:only-of-type {\n",
       "        vertical-align: middle;\n",
       "    }\n",
       "\n",
       "    .dataframe tbody tr th {\n",
       "        vertical-align: top;\n",
       "    }\n",
       "\n",
       "    .dataframe thead th {\n",
       "        text-align: right;\n",
       "    }\n",
       "</style>\n",
       "<table border=\"1\" class=\"dataframe\">\n",
       "  <thead>\n",
       "    <tr style=\"text-align: right;\">\n",
       "      <th></th>\n",
       "      <th>modelCheckingMin</th>\n",
       "    </tr>\n",
       "    <tr>\n",
       "      <th>label</th>\n",
       "      <th></th>\n",
       "    </tr>\n",
       "  </thead>\n",
       "  <tbody>\n",
       "    <tr>\n",
       "      <th>maze-128.json</th>\n",
       "      <td>0.398970</td>\n",
       "    </tr>\n",
       "    <tr>\n",
       "      <th>rai-260.json</th>\n",
       "      <td>0.516468</td>\n",
       "    </tr>\n",
       "  </tbody>\n",
       "</table>\n",
       "</div>"
      ],
      "text/plain": [
       "               modelCheckingMin\n",
       "label                          \n",
       "maze-128.json          0.398970\n",
       "rai-260.json           0.516468"
      ]
     },
     "execution_count": 15,
     "metadata": {},
     "output_type": "execute_result"
    }
   ],
   "source": [
    "modelCheckerMin_df"
   ]
  },
  {
   "cell_type": "code",
   "execution_count": null,
   "metadata": {},
   "outputs": [],
   "source": []
  }
 ],
 "metadata": {
  "kernelspec": {
   "display_name": "Python 3.9.7 64-bit",
   "language": "python",
   "name": "python3"
  },
  "language_info": {
   "codemirror_mode": {
    "name": "ipython",
    "version": 3
   },
   "file_extension": ".py",
   "mimetype": "text/x-python",
   "name": "python",
   "nbconvert_exporter": "python",
   "pygments_lexer": "ipython3",
   "version": "3.9.7"
  },
  "orig_nbformat": 4,
  "vscode": {
   "interpreter": {
    "hash": "916dbcbb3f70747c44a77c7bcd40155683ae19c65e1c03b4aa3499c5328201f1"
   }
  }
 },
 "nbformat": 4,
 "nbformat_minor": 2
}

{
 "cells": [
  {
   "cell_type": "markdown",
   "metadata": {},
   "source": [
    "# Python setup"
   ]
  },
  {
   "cell_type": "code",
   "execution_count": null,
   "metadata": {},
   "outputs": [],
   "source": [
    "import subprocess \n",
    "import time\n",
    "import glob\n",
    "import os\n",
    "from pathlib import Path\n",
    "import shutil\n",
    "import pandas as pd\n",
    "import tempfile\n",
    "from PIL import Image\n",
    "import resource\n",
    "from ast import literal_eval\n",
    "\n",
    "def run(obj,print_output=False):\n",
    "    start = time.perf_counter()\n",
    "    result = subprocess.run(obj[\"args\"],capture_output=True,text=True)    \n",
    "    if result.returncode != 0:\n",
    "        print(result.stdout)\n",
    "        print(result.stderr)\n",
    "        result.check_returncode()\n",
    "    else:\n",
    "        if print_output:\n",
    "            print(result.stdout)\n",
    "        return { \"delta\": time.perf_counter() - start, \"label\": obj[\"label\"],\"output\": result.stdout,\"error\": result.stderr, \"return_code\": result.returncode }\n",
    "    \n",
    "rid=\"linux-x64\"\n",
    "#converter_exe_rel=\"../../bin/release/net6.0/linux-x64/GraphLogicA\"\n",
    "converter_exe_rel=f\"../../bin/release/net6.0/{rid}/GraphLogicA\"\n",
    "converter_exe = Path(converter_exe_rel).absolute().as_posix()\n",
    "graphlogica_exe = converter_exe\n",
    "minimizer_exe = shutil.which(\"ltsconvert\")\n",
    "voxlogica_exe = f\"../../VoxLogicA_1.0-experimental_{rid}/VoxLogicA\"\n",
    "output=\"output\"\n",
    "#shutil.rmtree(output,ignore_errors=True)\n",
    "os.makedirs(output,exist_ok=True)\n",
    "images = glob.glob(\"test-images/*.png\")\n",
    "    \n",
    "def mk_df(results,delta_label):\n",
    "    return pd.DataFrame(results).set_index(\"label\").rename(columns={\"delta\": delta_label}).drop(columns=[\"output\",\"error\",\"return_code\"])\n",
    "!(cd ../.. && dotnet build -c release -r $rid)\n",
    "resource.setrlimit(resource.RLIMIT_STACK, (resource.RLIM_INFINITY, resource.RLIM_INFINITY))"
   ]
  },
  {
   "cell_type": "markdown",
   "metadata": {},
   "source": [
    "# Convert images"
   ]
  },
  {
   "cell_type": "code",
   "execution_count": null,
   "metadata": {},
   "outputs": [],
   "source": [
    "def converter(image):\n",
    "    path = Path(image)\n",
    "    label = path.name\n",
    "    o_path = Path(output)\n",
    "    s_path = path.with_suffix(\".aut\").name\n",
    "    d_path = o_path.joinpath(s_path)\n",
    "    return { \"args\": [converter_exe,\"--convert\",path.as_posix(),d_path.as_posix()], \"label\": label }\n",
    "    #return (run(label,args))\n",
    "\n",
    "converter_df = mk_df([ run(converter(image)) for image in images ],\"conversionAndWrite\")\n"
   ]
  },
  {
   "cell_type": "markdown",
   "metadata": {},
   "source": [
    "# Minimize"
   ]
  },
  {
   "cell_type": "code",
   "execution_count": null,
   "metadata": {},
   "outputs": [],
   "source": [
    "def minimizer(image):\n",
    "    path = Path(image)\n",
    "    label = path.name\n",
    "    o_path = Path(output)\n",
    "    s_path = path.with_suffix(\".aut\").name\n",
    "    d_path = o_path.joinpath(s_path)\n",
    "    m_path = o_path.joinpath(Path(path.with_suffix(\"\").name + \"_min\").with_suffix(\".aut\"))\n",
    "    return { \"args\": [minimizer_exe,\"-ebranching-bisim\",d_path.as_posix(),m_path.as_posix()], \"label\": label }\n",
    "\n",
    "minimizer_df = mk_df([ run(minimizer(image)) for image in images ],\"minimization\")\n"
   ]
  },
  {
   "cell_type": "markdown",
   "metadata": {},
   "source": [
    "# Convert the minimized model back"
   ]
  },
  {
   "cell_type": "code",
   "execution_count": null,
   "metadata": {},
   "outputs": [],
   "source": [
    "def convertBack(image):\n",
    "    path = Path(image)\n",
    "    label = path.name\n",
    "    o_path = Path(output)\n",
    "    s_path = path.with_suffix(\".aut\").name\n",
    "    d_path = o_path.joinpath(s_path)\n",
    "    m_path = o_path.joinpath(Path(path.with_suffix(\"\").name + \"_min\").with_suffix(\".aut\"))\n",
    "    j_path = o_path.joinpath(path.with_suffix(\".json\").name)\n",
    "    return { \"args\": [converter_exe,\"--convert\",m_path.as_posix(),j_path.as_posix()], \"label\": label }\n",
    "    #return (run(label,args))\n",
    "\n",
    "backConverter_df = mk_df([ run(convertBack(image)) for image in images ],\"convertBack\")\n"
   ]
  },
  {
   "cell_type": "markdown",
   "metadata": {},
   "source": [
    "# Convert without writing the file "
   ]
  },
  {
   "cell_type": "code",
   "execution_count": null,
   "metadata": {},
   "outputs": [],
   "source": [
    "def fakeConverter(image):\n",
    "    path = Path(image)\n",
    "    label = path.name\n",
    "    o_path = Path(output)\n",
    "    s_path = path.with_suffix(\".fake.aut\").name\n",
    "    d_path = o_path.joinpath(s_path)\n",
    "    return { \"args\": [converter_exe,\"--convert\",path.as_posix(),d_path.as_posix(),\"--fakeconversion\"], \"label\": label }\n",
    "    #return (run(label,args))\n",
    "\n",
    "fakeConverter_df = mk_df([ run(fakeConverter(image)) for image in images ],\"conversion\")\n"
   ]
  },
  {
   "cell_type": "code",
   "execution_count": null,
   "metadata": {},
   "outputs": [],
   "source": [
    "f'''{30:02x}'''"
   ]
  },
  {
   "cell_type": "markdown",
   "metadata": {},
   "source": [
    "# Model checking on images using VoxLogicA"
   ]
  },
  {
   "cell_type": "code",
   "execution_count": null,
   "metadata": {},
   "outputs": [],
   "source": [
    "def colour(r, g, b, is_graph=False):\n",
    "    if is_graph:\n",
    "        return f'''ap(\"{r:02x}{g:02x}{b:02x}\")'''\n",
    "    else:\n",
    "        return f'''(red(img) =. {r}) & (green(img) =. {g}) & (blue(img) =. {b})'''\n",
    "\n",
    "\n",
    "def save(basename, output,form, is_graph):\n",
    "    p = Path(basename)\n",
    "    n = p.with_suffix(\"\").name\n",
    "    if is_graph:\n",
    "        return f'''save \"{output}/{n}_{form}.json\" {form}'''\n",
    "    else:\n",
    "        return f'''save \"{output}/{n}_{form}.png\" {form}'''\n",
    "\n",
    "\n",
    "def mazeSpecification(path, is_graph):\n",
    "    return f'''\n",
    "            load img = \"{path}\"    \n",
    "            let w = {colour(255,255,255,is_graph)}\n",
    "            let b = {colour(0,0,255,is_graph)}\n",
    "            let g = {colour(0,255,0,is_graph)}\n",
    "            let form1 = through(N b,w) & through(N g,w)\n",
    "            let form2 = through(N (w & !through(N g,w)),b) & through(N g,w)\n",
    "            let form3 = through(N form1,b)\n",
    "            {save(path,output,\"form1\",is_graph)}\n",
    "            {save(path,output,\"form2\",is_graph)}\n",
    "            {save(path,output,\"form3\",is_graph)}\n",
    "        '''\n",
    "\n",
    "def raiSpecification(path, is_graph):\n",
    "    return f'''\n",
    "            load img=\"{path}\"\n",
    "            let form1 = {colour(255,0,0,is_graph)}\n",
    "            {save(path,output,\"form1\",is_graph)}\n",
    "        '''\n",
    "\n",
    "\n",
    "def findSpec(img : str,is_graph = False):\n",
    "    specs = [ [\"maze\",mazeSpecification],[\"rai\",raiSpecification] ]\n",
    "    for (prefix,spec) in specs:\n",
    "        if Path(img).name.startswith(prefix):\n",
    "            return spec(img,is_graph)\n",
    "    return None\n",
    "\n",
    "def modelChecker(image, spec, is_graph=False):\n",
    "    path = Path(image)\n",
    "    fname = tempfile.NamedTemporaryFile().name\n",
    "    f = open(fname, \"w\")\n",
    "    f.write(spec)\n",
    "    f.close()\n",
    "    if is_graph:\n",
    "        exe = graphlogica_exe\n",
    "    else:\n",
    "        exe = voxlogica_exe\n",
    "    return {\"args\": [exe, fname], \"label\": path.name, \"property\": \"maze\"}\n",
    "\n",
    "modelChecker_df = mk_df(\n",
    "    [run(modelChecker(image,spec))\n",
    "        for image in images if (spec:=findSpec(image)) if spec],\n",
    "    \"modelCheckingFull\")\n"
   ]
  },
  {
   "cell_type": "markdown",
   "metadata": {},
   "source": [
    "# Model Checking on the minimal graph using GraphLogicA"
   ]
  },
  {
   "cell_type": "code",
   "execution_count": 21,
   "metadata": {},
   "outputs": [
    {
     "name": "stdout",
     "output_type": "stream",
     "text": [
      "[        11ms] [info] GraphLogicA 0.4.1\n",
      "[       206ms] [info] Parsing input...\n",
      "[       227ms] [info] Preparing computation...\n",
      "[       233ms] [info] Importing file \"/home/vincenzo/data/local/repos/GraphLogicA/src/bin/release/net6.0/linux-x64/stdlib.imgql\"\n",
      "[       257ms] [info] The given key '7' was not present in the dictionary.\n",
      "[       257ms] [fail] exiting.\n",
      "[       257ms] [fail] exiting.\n",
      "[       257ms] [fail] exiting.\n",
      "\n",
      "\n"
     ]
    },
    {
     "ename": "CalledProcessError",
     "evalue": "Command '['/home/vincenzo/data/local/repos/GraphLogicA/src/test/min/../../bin/release/net6.0/linux-x64/GraphLogicA', '/tmp/tmpar6fuecv']' returned non-zero exit status 1.",
     "output_type": "error",
     "traceback": [
      "\u001b[0;31m---------------------------------------------------------------------------\u001b[0m",
      "\u001b[0;31mCalledProcessError\u001b[0m                        Traceback (most recent call last)",
      "\u001b[0;32m<ipython-input-21-bc74db7d88e0>\u001b[0m in \u001b[0;36m<module>\u001b[0;34m\u001b[0m\n\u001b[1;32m     26\u001b[0m \u001b[0;34m\u001b[0m\u001b[0m\n\u001b[1;32m     27\u001b[0m modelCheckerMin_df = mk_df(\n\u001b[0;32m---> 28\u001b[0;31m     [run(modelChecker(graph(image),spec,True))\n\u001b[0m\u001b[1;32m     29\u001b[0m         for image in images if (spec:=findSpec(graph(image),True)) if spec],\n\u001b[1;32m     30\u001b[0m     \"modelCheckingFull\")\n",
      "\u001b[0;32m<ipython-input-21-bc74db7d88e0>\u001b[0m in \u001b[0;36m<listcomp>\u001b[0;34m(.0)\u001b[0m\n\u001b[1;32m     26\u001b[0m \u001b[0;34m\u001b[0m\u001b[0m\n\u001b[1;32m     27\u001b[0m modelCheckerMin_df = mk_df(\n\u001b[0;32m---> 28\u001b[0;31m     [run(modelChecker(graph(image),spec,True))\n\u001b[0m\u001b[1;32m     29\u001b[0m         for image in images if (spec:=findSpec(graph(image),True)) if spec],\n\u001b[1;32m     30\u001b[0m     \"modelCheckingFull\")\n",
      "\u001b[0;32m<ipython-input-1-1ec0532d5af0>\u001b[0m in \u001b[0;36mrun\u001b[0;34m(obj, print_output)\u001b[0m\n\u001b[1;32m     17\u001b[0m         \u001b[0mprint\u001b[0m\u001b[0;34m(\u001b[0m\u001b[0mresult\u001b[0m\u001b[0;34m.\u001b[0m\u001b[0mstdout\u001b[0m\u001b[0;34m)\u001b[0m\u001b[0;34m\u001b[0m\u001b[0;34m\u001b[0m\u001b[0m\n\u001b[1;32m     18\u001b[0m         \u001b[0mprint\u001b[0m\u001b[0;34m(\u001b[0m\u001b[0mresult\u001b[0m\u001b[0;34m.\u001b[0m\u001b[0mstderr\u001b[0m\u001b[0;34m)\u001b[0m\u001b[0;34m\u001b[0m\u001b[0;34m\u001b[0m\u001b[0m\n\u001b[0;32m---> 19\u001b[0;31m         \u001b[0mresult\u001b[0m\u001b[0;34m.\u001b[0m\u001b[0mcheck_returncode\u001b[0m\u001b[0;34m(\u001b[0m\u001b[0;34m)\u001b[0m\u001b[0;34m\u001b[0m\u001b[0;34m\u001b[0m\u001b[0m\n\u001b[0m\u001b[1;32m     20\u001b[0m     \u001b[0;32melse\u001b[0m\u001b[0;34m:\u001b[0m\u001b[0;34m\u001b[0m\u001b[0;34m\u001b[0m\u001b[0m\n\u001b[1;32m     21\u001b[0m         \u001b[0;32mif\u001b[0m \u001b[0mprint_output\u001b[0m\u001b[0;34m:\u001b[0m\u001b[0;34m\u001b[0m\u001b[0;34m\u001b[0m\u001b[0m\n",
      "\u001b[0;32m/usr/lib/python3.9/subprocess.py\u001b[0m in \u001b[0;36mcheck_returncode\u001b[0;34m(self)\u001b[0m\n\u001b[1;32m    458\u001b[0m         \u001b[0;34m\"\"\"Raise CalledProcessError if the exit code is non-zero.\"\"\"\u001b[0m\u001b[0;34m\u001b[0m\u001b[0;34m\u001b[0m\u001b[0m\n\u001b[1;32m    459\u001b[0m         \u001b[0;32mif\u001b[0m \u001b[0mself\u001b[0m\u001b[0;34m.\u001b[0m\u001b[0mreturncode\u001b[0m\u001b[0;34m:\u001b[0m\u001b[0;34m\u001b[0m\u001b[0;34m\u001b[0m\u001b[0m\n\u001b[0;32m--> 460\u001b[0;31m             raise CalledProcessError(self.returncode, self.args, self.stdout,\n\u001b[0m\u001b[1;32m    461\u001b[0m                                      self.stderr)\n\u001b[1;32m    462\u001b[0m \u001b[0;34m\u001b[0m\u001b[0m\n",
      "\u001b[0;31mCalledProcessError\u001b[0m: Command '['/home/vincenzo/data/local/repos/GraphLogicA/src/test/min/../../bin/release/net6.0/linux-x64/GraphLogicA', '/tmp/tmpar6fuecv']' returned non-zero exit status 1."
     ]
    }
   ],
   "source": [
    "# def graphSpecification():\n",
    "#     gql = f'''\n",
    "#     load graph = \"mazeMin.json\"\n",
    "#     let w = ap(\"cFFFFFF\")\n",
    "#     let b = ap(\"c0000FF\")\n",
    "#     let g = ap(\"c00FF00\")\n",
    "#     let form1 = through(N b,w) & through(N g,w)\n",
    "#     let form2 = through(N (w & !through(N g,w)),b) & through(N g,w)\n",
    "#     let form3 = through(N form1,b)\n",
    "#     save \"output/form1.json\" form1\n",
    "#     save \"output/form2.json\" form2\n",
    "#     save \"output/form3.json\" form3\n",
    "#     '''\n",
    "#     fname = tempfile.NamedTemporaryFile().name\n",
    "#     f = open(fname,\"w\")\n",
    "#     f.write(gql)\n",
    "#     f.close()\n",
    "#     return run({\"args\" : [graphlogica_exe,fname], \"label\": \"modelCheckingMin\"},print_output=True)\n",
    "\n",
    "# graph_delta = graphSpecification()[\"delta\"]\n",
    "def graph(image):\n",
    "    path = Path(image)\n",
    "    o_path = Path(output)\n",
    "    j_path = o_path.joinpath(path.with_suffix(\".json\").name)\n",
    "    return(j_path)\n",
    "\n",
    "modelCheckerMin_df = mk_df(\n",
    "    [run(modelChecker(graph(image),spec,True))\n",
    "        for image in images if (spec:=findSpec(graph(image),True)) if spec],\n",
    "    \"modelCheckingFull\")"
   ]
  },
  {
   "cell_type": "code",
   "execution_count": null,
   "metadata": {},
   "outputs": [],
   "source": [
    "graph_true_delta = 0.02 # gotten by hand looking at the output"
   ]
  },
  {
   "cell_type": "code",
   "execution_count": null,
   "metadata": {},
   "outputs": [],
   "source": [
    "# Read automata statistics\n",
    "\n",
    "def autSize(image):\n",
    "    path = Path(image)\n",
    "    label = path.name\n",
    "    o_path = Path(output)\n",
    "    s_path = path.with_suffix(\".aut\").name\n",
    "    d_path = o_path.joinpath(s_path)\n",
    "    m_path = o_path.joinpath(Path(path.with_suffix(\"\").name + \"_min\").with_suffix(\".aut\"))\n",
    "    first_line = \"\"\n",
    "    first_line_min = \"\"\n",
    "    with open(d_path,\"r\") as file:\n",
    "        first_line = file.readline().lstrip(\"des \")\n",
    "    \n",
    "    with open(m_path,\"r\") as file:\n",
    "        first_line_min = file.readline().lstrip(\"des \")\n",
    "\n",
    "    t = literal_eval(first_line)\n",
    "    tmin = literal_eval(first_line_min)\n",
    "\n",
    "    return { \"states\": t[2], \"transitions\": t[1], \"statesMin\": tmin[2] , \"transitionsMin\": tmin[1], \"label\": label }\n",
    "\n",
    "autSize_df = pd.DataFrame([ autSize(image) for image in images]).set_index(\"label\")\n",
    "\n",
    "    "
   ]
  },
  {
   "cell_type": "markdown",
   "metadata": {},
   "source": [
    "# Gather image sizes and produce the final table"
   ]
  },
  {
   "cell_type": "code",
   "execution_count": null,
   "metadata": {},
   "outputs": [],
   "source": [
    "def size(imgpath):    \n",
    "    path = Path(imgpath)\n",
    "    img = Image.open(imgpath)\n",
    "    return { \"pixels\": img.width * img.height, \"label\": path.name}\n",
    "\n",
    "size_df = pd.DataFrame([ size(image) for image in images]).set_index(\"label\")"
   ]
  },
  {
   "cell_type": "code",
   "execution_count": null,
   "metadata": {},
   "outputs": [],
   "source": [
    "df = size_df.join(autSize_df).join(fakeConverter_df).join(converter_df).join(minimizer_df).join(backConverter_df).join(modelChecker_df)\n",
    "df[\"modelCheckingMin\"] = graph_delta\n",
    "df[\"modelCheckingMinLimit\"] = graph_true_delta\n",
    "df[\"idealTime\"] = df[\"conversion\"] + df[\"modelCheckingMinLimit\"]\n",
    "df[\"idealSpeedup\"] = df[\"modelCheckingFull\"] / df[\"idealTime\"]\n",
    "data = df.sort_values(by='pixels')\n",
    "data"
   ]
  },
  {
   "cell_type": "markdown",
   "metadata": {},
   "source": [
    "# Export data"
   ]
  },
  {
   "cell_type": "code",
   "execution_count": null,
   "metadata": {},
   "outputs": [],
   "source": [
    "df.to_latex(\"table.tex\")"
   ]
  },
  {
   "cell_type": "code",
   "execution_count": null,
   "metadata": {},
   "outputs": [],
   "source": []
  }
 ],
 "metadata": {
  "kernelspec": {
   "display_name": "Python 3.9.7 64-bit",
   "language": "python",
   "name": "python3"
  },
  "language_info": {
   "codemirror_mode": {
    "name": "ipython",
    "version": 3
   },
   "file_extension": ".py",
   "mimetype": "text/x-python",
   "name": "python",
   "nbconvert_exporter": "python",
   "pygments_lexer": "ipython3",
   "version": "3.9.7"
  },
  "orig_nbformat": 4,
  "vscode": {
   "interpreter": {
    "hash": "916dbcbb3f70747c44a77c7bcd40155683ae19c65e1c03b4aa3499c5328201f1"
   }
  }
 },
 "nbformat": 4,
 "nbformat_minor": 2
}
